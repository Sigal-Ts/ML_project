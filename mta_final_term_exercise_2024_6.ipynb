{
  "cells": [
    {
      "cell_type": "markdown",
      "metadata": {
        "id": "view-in-github",
        "colab_type": "text"
      },
      "source": [
        "<a href=\"https://colab.research.google.com/github/Sigal-Ts/ML_project/blob/main/mta_final_term_exercise_2024_6.ipynb\" target=\"_parent\"><img src=\"https://colab.research.google.com/assets/colab-badge.svg\" alt=\"Open In Colab\"/></a>"
      ]
    },
    {
      "cell_type": "markdown",
      "metadata": {
        "id": "WxEMakEiBTl-"
      },
      "source": [
        "#Final-term exercise"
      ]
    },
    {
      "cell_type": "markdown",
      "metadata": {
        "id": "63MGm65eCjRr"
      },
      "source": [
        "#1. Load your libraries here:"
      ]
    },
    {
      "cell_type": "code",
      "execution_count": null,
      "metadata": {
        "colab": {
          "base_uri": "https://localhost:8080/"
        },
        "id": "Ug3u-V4-BWTi",
        "outputId": "bd499a75-fff0-4e26-b4cf-00e843802525"
      },
      "outputs": [
        {
          "output_type": "stream",
          "name": "stdout",
          "text": [
            "Collecting catboost\n",
            "  Downloading catboost-1.2.7-cp310-cp310-manylinux2014_x86_64.whl.metadata (1.2 kB)\n",
            "Requirement already satisfied: graphviz in /usr/local/lib/python3.10/dist-packages (from catboost) (0.20.3)\n",
            "Requirement already satisfied: matplotlib in /usr/local/lib/python3.10/dist-packages (from catboost) (3.8.0)\n",
            "Requirement already satisfied: numpy<2.0,>=1.16.0 in /usr/local/lib/python3.10/dist-packages (from catboost) (1.26.4)\n",
            "Requirement already satisfied: pandas>=0.24 in /usr/local/lib/python3.10/dist-packages (from catboost) (2.2.2)\n",
            "Requirement already satisfied: scipy in /usr/local/lib/python3.10/dist-packages (from catboost) (1.13.1)\n",
            "Requirement already satisfied: plotly in /usr/local/lib/python3.10/dist-packages (from catboost) (5.24.1)\n",
            "Requirement already satisfied: six in /usr/local/lib/python3.10/dist-packages (from catboost) (1.16.0)\n",
            "Requirement already satisfied: python-dateutil>=2.8.2 in /usr/local/lib/python3.10/dist-packages (from pandas>=0.24->catboost) (2.8.2)\n",
            "Requirement already satisfied: pytz>=2020.1 in /usr/local/lib/python3.10/dist-packages (from pandas>=0.24->catboost) (2024.2)\n",
            "Requirement already satisfied: tzdata>=2022.7 in /usr/local/lib/python3.10/dist-packages (from pandas>=0.24->catboost) (2024.2)\n",
            "Requirement already satisfied: contourpy>=1.0.1 in /usr/local/lib/python3.10/dist-packages (from matplotlib->catboost) (1.3.0)\n",
            "Requirement already satisfied: cycler>=0.10 in /usr/local/lib/python3.10/dist-packages (from matplotlib->catboost) (0.12.1)\n",
            "Requirement already satisfied: fonttools>=4.22.0 in /usr/local/lib/python3.10/dist-packages (from matplotlib->catboost) (4.54.1)\n",
            "Requirement already satisfied: kiwisolver>=1.0.1 in /usr/local/lib/python3.10/dist-packages (from matplotlib->catboost) (1.4.7)\n",
            "Requirement already satisfied: packaging>=20.0 in /usr/local/lib/python3.10/dist-packages (from matplotlib->catboost) (24.1)\n",
            "Requirement already satisfied: pillow>=6.2.0 in /usr/local/lib/python3.10/dist-packages (from matplotlib->catboost) (10.4.0)\n",
            "Requirement already satisfied: pyparsing>=2.3.1 in /usr/local/lib/python3.10/dist-packages (from matplotlib->catboost) (3.2.0)\n",
            "Requirement already satisfied: tenacity>=6.2.0 in /usr/local/lib/python3.10/dist-packages (from plotly->catboost) (9.0.0)\n",
            "Downloading catboost-1.2.7-cp310-cp310-manylinux2014_x86_64.whl (98.7 MB)\n",
            "\u001b[2K   \u001b[90m━━━━━━━━━━━━━━━━━━━━━━━━━━━━━━━━━━━━━━━━\u001b[0m \u001b[32m98.7/98.7 MB\u001b[0m \u001b[31m9.0 MB/s\u001b[0m eta \u001b[36m0:00:00\u001b[0m\n",
            "\u001b[?25hInstalling collected packages: catboost\n",
            "Successfully installed catboost-1.2.7\n"
          ]
        }
      ],
      "source": [
        "#your code here:\n",
        "!pip install catboost\n"
      ]
    },
    {
      "cell_type": "markdown",
      "metadata": {
        "id": "5cHQNXM3l8L9"
      },
      "source": [
        "#Part A:"
      ]
    },
    {
      "cell_type": "markdown",
      "metadata": {
        "id": "zoS_ee5wDJDE"
      },
      "source": [
        "#Upload your data file:"
      ]
    },
    {
      "cell_type": "code",
      "execution_count": null,
      "metadata": {
        "id": "_g0XLs7MDKQE",
        "colab": {
          "base_uri": "https://localhost:8080/"
        },
        "outputId": "82029d5d-4e55-4c33-f31c-f9532c66d953"
      },
      "outputs": [
        {
          "output_type": "stream",
          "name": "stderr",
          "text": [
            "/usr/local/lib/python3.10/dist-packages/dask/dataframe/__init__.py:42: FutureWarning: \n",
            "Dask dataframe query planning is disabled because dask-expr is not installed.\n",
            "\n",
            "You can install it with `pip install dask[dataframe]` or `conda install dask`.\n",
            "This will raise in a future version.\n",
            "\n",
            "  warnings.warn(msg, FutureWarning)\n"
          ]
        }
      ],
      "source": [
        "#your code here:\n",
        "import numpy as np\n",
        "import matplotlib.pyplot as plt\n",
        "from sklearn.metrics import r2_score\n",
        "import os\n",
        "import zipfile\n",
        "import pandas as pd\n",
        "from sklearn.impute import SimpleImputer\n",
        "from sklearn.impute import KNNImputer\n",
        "from sklearn.model_selection import train_test_split\n",
        "from sklearn.preprocessing import StandardScaler, MinMaxScaler\n",
        "import seaborn as sns\n",
        "from imblearn.over_sampling import SMOTE\n",
        "from sklearn.ensemble import RandomForestClassifier\n",
        "from catboost import CatBoostClassifier\n",
        "from sklearn.metrics import classification_report\n",
        "from sklearn.ensemble import GradientBoostingClassifier\n",
        "import tensorflow as tf\n",
        "from tensorflow.keras.models import Sequential\n",
        "from tensorflow.keras.layers import Dense\n",
        "from tensorflow.keras.layers import  Dropout, Input\n",
        "from sklearn.linear_model import LinearRegression\n",
        "from sklearn.metrics import mean_squared_error\n",
        "from sklearn.linear_model import LinearRegression, LassoCV, RidgeCV, Lasso, Ridge\n",
        "from sklearn.metrics import mean_absolute_error, r2_score\n",
        "from sklearn.preprocessing import PolynomialFeatures\n",
        "import warnings\n",
        "from sklearn.exceptions import ConvergenceWarning\n",
        "from sklearn.pipeline import Pipeline\n",
        "from sklearn.model_selection import train_test_split, GridSearchCV\n",
        "from sklearn.ensemble import RandomForestRegressor\n",
        "from catboost import CatBoostRegressor\n",
        "from lightgbm import LGBMRegressor\n",
        "from sklearn.model_selection import RandomizedSearchCV\n"
      ]
    },
    {
      "cell_type": "code",
      "execution_count": null,
      "metadata": {
        "colab": {
          "base_uri": "https://localhost:8080/",
          "height": 108
        },
        "id": "pgXIKKfbAbg4",
        "outputId": "5590afca-c935-4b78-ad02-dab286501203"
      },
      "outputs": [
        {
          "output_type": "display_data",
          "data": {
            "text/plain": [
              "<IPython.core.display.HTML object>"
            ],
            "text/html": [
              "\n",
              "     <input type=\"file\" id=\"files-5a65a974-9a11-4bd8-b88f-e739813b50d2\" name=\"files[]\" multiple disabled\n",
              "        style=\"border:none\" />\n",
              "     <output id=\"result-5a65a974-9a11-4bd8-b88f-e739813b50d2\">\n",
              "      Upload widget is only available when the cell has been executed in the\n",
              "      current browser session. Please rerun this cell to enable.\n",
              "      </output>\n",
              "      <script>// Copyright 2017 Google LLC\n",
              "//\n",
              "// Licensed under the Apache License, Version 2.0 (the \"License\");\n",
              "// you may not use this file except in compliance with the License.\n",
              "// You may obtain a copy of the License at\n",
              "//\n",
              "//      http://www.apache.org/licenses/LICENSE-2.0\n",
              "//\n",
              "// Unless required by applicable law or agreed to in writing, software\n",
              "// distributed under the License is distributed on an \"AS IS\" BASIS,\n",
              "// WITHOUT WARRANTIES OR CONDITIONS OF ANY KIND, either express or implied.\n",
              "// See the License for the specific language governing permissions and\n",
              "// limitations under the License.\n",
              "\n",
              "/**\n",
              " * @fileoverview Helpers for google.colab Python module.\n",
              " */\n",
              "(function(scope) {\n",
              "function span(text, styleAttributes = {}) {\n",
              "  const element = document.createElement('span');\n",
              "  element.textContent = text;\n",
              "  for (const key of Object.keys(styleAttributes)) {\n",
              "    element.style[key] = styleAttributes[key];\n",
              "  }\n",
              "  return element;\n",
              "}\n",
              "\n",
              "// Max number of bytes which will be uploaded at a time.\n",
              "const MAX_PAYLOAD_SIZE = 100 * 1024;\n",
              "\n",
              "function _uploadFiles(inputId, outputId) {\n",
              "  const steps = uploadFilesStep(inputId, outputId);\n",
              "  const outputElement = document.getElementById(outputId);\n",
              "  // Cache steps on the outputElement to make it available for the next call\n",
              "  // to uploadFilesContinue from Python.\n",
              "  outputElement.steps = steps;\n",
              "\n",
              "  return _uploadFilesContinue(outputId);\n",
              "}\n",
              "\n",
              "// This is roughly an async generator (not supported in the browser yet),\n",
              "// where there are multiple asynchronous steps and the Python side is going\n",
              "// to poll for completion of each step.\n",
              "// This uses a Promise to block the python side on completion of each step,\n",
              "// then passes the result of the previous step as the input to the next step.\n",
              "function _uploadFilesContinue(outputId) {\n",
              "  const outputElement = document.getElementById(outputId);\n",
              "  const steps = outputElement.steps;\n",
              "\n",
              "  const next = steps.next(outputElement.lastPromiseValue);\n",
              "  return Promise.resolve(next.value.promise).then((value) => {\n",
              "    // Cache the last promise value to make it available to the next\n",
              "    // step of the generator.\n",
              "    outputElement.lastPromiseValue = value;\n",
              "    return next.value.response;\n",
              "  });\n",
              "}\n",
              "\n",
              "/**\n",
              " * Generator function which is called between each async step of the upload\n",
              " * process.\n",
              " * @param {string} inputId Element ID of the input file picker element.\n",
              " * @param {string} outputId Element ID of the output display.\n",
              " * @return {!Iterable<!Object>} Iterable of next steps.\n",
              " */\n",
              "function* uploadFilesStep(inputId, outputId) {\n",
              "  const inputElement = document.getElementById(inputId);\n",
              "  inputElement.disabled = false;\n",
              "\n",
              "  const outputElement = document.getElementById(outputId);\n",
              "  outputElement.innerHTML = '';\n",
              "\n",
              "  const pickedPromise = new Promise((resolve) => {\n",
              "    inputElement.addEventListener('change', (e) => {\n",
              "      resolve(e.target.files);\n",
              "    });\n",
              "  });\n",
              "\n",
              "  const cancel = document.createElement('button');\n",
              "  inputElement.parentElement.appendChild(cancel);\n",
              "  cancel.textContent = 'Cancel upload';\n",
              "  const cancelPromise = new Promise((resolve) => {\n",
              "    cancel.onclick = () => {\n",
              "      resolve(null);\n",
              "    };\n",
              "  });\n",
              "\n",
              "  // Wait for the user to pick the files.\n",
              "  const files = yield {\n",
              "    promise: Promise.race([pickedPromise, cancelPromise]),\n",
              "    response: {\n",
              "      action: 'starting',\n",
              "    }\n",
              "  };\n",
              "\n",
              "  cancel.remove();\n",
              "\n",
              "  // Disable the input element since further picks are not allowed.\n",
              "  inputElement.disabled = true;\n",
              "\n",
              "  if (!files) {\n",
              "    return {\n",
              "      response: {\n",
              "        action: 'complete',\n",
              "      }\n",
              "    };\n",
              "  }\n",
              "\n",
              "  for (const file of files) {\n",
              "    const li = document.createElement('li');\n",
              "    li.append(span(file.name, {fontWeight: 'bold'}));\n",
              "    li.append(span(\n",
              "        `(${file.type || 'n/a'}) - ${file.size} bytes, ` +\n",
              "        `last modified: ${\n",
              "            file.lastModifiedDate ? file.lastModifiedDate.toLocaleDateString() :\n",
              "                                    'n/a'} - `));\n",
              "    const percent = span('0% done');\n",
              "    li.appendChild(percent);\n",
              "\n",
              "    outputElement.appendChild(li);\n",
              "\n",
              "    const fileDataPromise = new Promise((resolve) => {\n",
              "      const reader = new FileReader();\n",
              "      reader.onload = (e) => {\n",
              "        resolve(e.target.result);\n",
              "      };\n",
              "      reader.readAsArrayBuffer(file);\n",
              "    });\n",
              "    // Wait for the data to be ready.\n",
              "    let fileData = yield {\n",
              "      promise: fileDataPromise,\n",
              "      response: {\n",
              "        action: 'continue',\n",
              "      }\n",
              "    };\n",
              "\n",
              "    // Use a chunked sending to avoid message size limits. See b/62115660.\n",
              "    let position = 0;\n",
              "    do {\n",
              "      const length = Math.min(fileData.byteLength - position, MAX_PAYLOAD_SIZE);\n",
              "      const chunk = new Uint8Array(fileData, position, length);\n",
              "      position += length;\n",
              "\n",
              "      const base64 = btoa(String.fromCharCode.apply(null, chunk));\n",
              "      yield {\n",
              "        response: {\n",
              "          action: 'append',\n",
              "          file: file.name,\n",
              "          data: base64,\n",
              "        },\n",
              "      };\n",
              "\n",
              "      let percentDone = fileData.byteLength === 0 ?\n",
              "          100 :\n",
              "          Math.round((position / fileData.byteLength) * 100);\n",
              "      percent.textContent = `${percentDone}% done`;\n",
              "\n",
              "    } while (position < fileData.byteLength);\n",
              "  }\n",
              "\n",
              "  // All done.\n",
              "  yield {\n",
              "    response: {\n",
              "      action: 'complete',\n",
              "    }\n",
              "  };\n",
              "}\n",
              "\n",
              "scope.google = scope.google || {};\n",
              "scope.google.colab = scope.google.colab || {};\n",
              "scope.google.colab._files = {\n",
              "  _uploadFiles,\n",
              "  _uploadFilesContinue,\n",
              "};\n",
              "})(self);\n",
              "</script> "
            ]
          },
          "metadata": {}
        },
        {
          "output_type": "stream",
          "name": "stdout",
          "text": [
            "Saving Apartment Prices.csv to Apartment Prices.csv\n",
            "Saving mushroom_cleaned.csv to mushroom_cleaned.csv\n"
          ]
        }
      ],
      "source": [
        "from google.colab import files\n",
        "file = files.upload()\n"
      ]
    },
    {
      "cell_type": "markdown",
      "metadata": {
        "id": "mO-FSmz3DTAj"
      },
      "source": [
        "#2. Read the file into a pandas data frame:\n",
        "Split your data to:\n",
        "\n",
        "a. X: the feature matrix\n",
        "\n",
        "b. y: the label vector"
      ]
    },
    {
      "cell_type": "code",
      "execution_count": null,
      "metadata": {
        "id": "0-ydbL4lDXIa",
        "colab": {
          "base_uri": "https://localhost:8080/"
        },
        "outputId": "f9ff4aec-a60d-4f96-f02b-8151a0636623"
      },
      "outputs": [
        {
          "output_type": "stream",
          "name": "stdout",
          "text": [
            "First few rows of the DataFrame:\n",
            "   cap-diameter  cap-shape  gill-attachment  gill-color  stem-height  \\\n",
            "0          1372          2                2          10     3.807467   \n",
            "1          1461          2                2          10     3.807467   \n",
            "2          1371          2                2          10     3.612496   \n",
            "3          1261          6                2          10     3.787572   \n",
            "4          1305          6                2          10     3.711971   \n",
            "\n",
            "   stem-width  stem-color    season  class  \n",
            "0        1545          11  1.804273      1  \n",
            "1        1557          11  1.804273      1  \n",
            "2        1566          11  1.804273      1  \n",
            "3        1566          11  1.804273      1  \n",
            "4        1464          11  0.943195      1  \n",
            "Features (X):\n",
            "   cap-diameter  cap-shape  gill-attachment  gill-color  stem-height  \\\n",
            "0          1372          2                2          10     3.807467   \n",
            "1          1461          2                2          10     3.807467   \n",
            "2          1371          2                2          10     3.612496   \n",
            "3          1261          6                2          10     3.787572   \n",
            "4          1305          6                2          10     3.711971   \n",
            "\n",
            "   stem-width  stem-color    season  \n",
            "0        1545          11  1.804273  \n",
            "1        1557          11  1.804273  \n",
            "2        1566          11  1.804273  \n",
            "3        1566          11  1.804273  \n",
            "4        1464          11  0.943195  \n",
            "\n",
            "Target variable(y):\n",
            "0    1\n",
            "1    1\n",
            "2    1\n",
            "3    1\n",
            "4    1\n",
            "Name: class, dtype: int64\n",
            "\n",
            "Number of observations: 54035\n"
          ]
        }
      ],
      "source": [
        "#your code here:\n",
        "#Classification task when the prediction variable (label/Y/output).\n",
        "#The data include observations of various mushroom characteristics\n",
        "#and are designed to predict whether a mushroom is poisonous or not- 0:not poisonous, 1:poisonous.\n",
        "df_mushroomCleaned= pd.read_csv(\"mushroom_cleaned.csv\")\n",
        "\n",
        "#Making a copy of the original df.\n",
        "df_mushroomCleanedCo = df_mushroomCleaned.copy()\n",
        "\n",
        "#Display the first rows of the copied DataFrame and the feature.\n",
        "print(\"First few rows of the DataFrame:\")\n",
        "print(df_mushroomCleanedCo.head())\n",
        "\n",
        "#Defining the Target Variable (Label).\n",
        "#The class column from the DataFrame assigns to y.\n",
        "#class represents the label we want to predict- if mushrooms are edible or poisonous.\n",
        "y = df_mushroomCleanedCo['class']\n",
        "\n",
        "#Defining the Features.\n",
        "#Remove the class column to leave only the attribute columns, and assign them to the X variable.\n",
        "X = df_mushroomCleanedCo.drop('class', axis=1)\n",
        "\n",
        "#Displaying the properties and the predictor variable to verify that the split was performed correctly.\n",
        "print(\"Features (X):\")\n",
        "print(X.head())\n",
        "print(\"\\nTarget variable(y):\")\n",
        "print(y.head())\n",
        "\n",
        "#Get the number of observations (samples).\n",
        "num_samples = df_mushroomCleanedCo.shape[0]\n",
        "print(f\"\\nNumber of observations: {num_samples}\")"
      ]
    },
    {
      "cell_type": "markdown",
      "metadata": {
        "id": "T5BZb-AnDXnb"
      },
      "source": [
        "#3.A. Check for missing values:"
      ]
    },
    {
      "cell_type": "code",
      "execution_count": null,
      "metadata": {
        "id": "glKyIdt4DcKz",
        "colab": {
          "base_uri": "https://localhost:8080/"
        },
        "outputId": "0418b796-21ec-4630-f5da-7381d2129cbe"
      },
      "outputs": [
        {
          "output_type": "stream",
          "name": "stdout",
          "text": [
            "Missing values per column before inserting missing values:\n",
            "cap-diameter       0\n",
            "cap-shape          0\n",
            "gill-attachment    0\n",
            "gill-color         0\n",
            "stem-height        0\n",
            "stem-width         0\n",
            "stem-color         0\n",
            "season             0\n",
            "class              0\n",
            "dtype: int64\n"
          ]
        }
      ],
      "source": [
        "#your code here:\n",
        "#Checking to see if there are missing data.\n",
        "print(\"Missing values per column before inserting missing values:\")\n",
        "print(df_mushroomCleanedCo.isnull().sum())"
      ]
    },
    {
      "cell_type": "markdown",
      "metadata": {
        "id": "tYqhzgE8Dkdj"
      },
      "source": [
        "If there are no missing values in your data, follow the next steps:\n",
        "1. uncomment the following function by:\n",
        "\n",
        "  a. selecting all the code in the chunk\n",
        "\n",
        "  b. pressing \"ctrl\"+\"/\" to uncomment all lines\n",
        "2. assign the missing values-containing data to a new variable name (see example below).\n",
        "\n",
        "Say my dataset features is named X.\n",
        "\n",
        "Than the use of the function would be:\n",
        "\n",
        "\n",
        "```\n",
        "X_missing=add_missing_values(X)\n",
        " ```\n",
        "\n",
        "\n",
        "\n",
        "\n"
      ]
    },
    {
      "cell_type": "code",
      "execution_count": null,
      "metadata": {
        "id": "vZLGvx7YIUCc",
        "colab": {
          "base_uri": "https://localhost:8080/"
        },
        "outputId": "f0567a41-a425-4d32-db71-4bfe67c72b1b"
      },
      "outputs": [
        {
          "output_type": "stream",
          "name": "stdout",
          "text": [
            "       cap-diameter  cap-shape  gill-attachment  gill-color  stem-height  \\\n",
            "0            1372.0        2.0              2.0        10.0     3.807467   \n",
            "1            1461.0        2.0              2.0        10.0     3.807467   \n",
            "2            1371.0        2.0              2.0        10.0          NaN   \n",
            "3            1261.0        6.0              2.0        10.0     3.787572   \n",
            "4            1305.0        6.0              2.0        10.0          NaN   \n",
            "...             ...        ...              ...         ...          ...   \n",
            "54030          73.0        NaN              3.0         2.0     0.887740   \n",
            "54031          82.0        2.0              3.0         2.0     1.186164   \n",
            "54032          82.0        NaN              3.0         2.0     0.915593   \n",
            "54033          79.0        NaN              3.0         2.0     1.034963   \n",
            "54034          72.0        5.0              3.0         2.0     1.158311   \n",
            "\n",
            "       stem-width  stem-color    season  \n",
            "0          1545.0        11.0  1.804273  \n",
            "1          1557.0        11.0       NaN  \n",
            "2          1566.0        11.0  1.804273  \n",
            "3          1566.0        11.0  1.804273  \n",
            "4          1464.0        11.0  0.943195  \n",
            "...           ...         ...       ...  \n",
            "54030       569.0        12.0  0.943195  \n",
            "54031       490.0        12.0  0.943195  \n",
            "54032       584.0        12.0  0.888450  \n",
            "54033       491.0        12.0  0.888450  \n",
            "54034       492.0         NaN  0.888450  \n",
            "\n",
            "[54035 rows x 8 columns]\n",
            "cap-diameter       5164\n",
            "cap-shape          5007\n",
            "gill-attachment    4965\n",
            "gill-color         5102\n",
            "stem-height        5163\n",
            "stem-width         4969\n",
            "stem-color         5106\n",
            "season             5050\n",
            "dtype: int64\n"
          ]
        }
      ],
      "source": [
        "#your code here, if there are no missing values:\n",
        "#Inserting missing values ​​in the data proactively.\n",
        "def add_missing_values(X):\n",
        "      Col_names = X.columns\n",
        "      X_full=X.to_numpy()\n",
        "      rng = np.random.RandomState(4)\n",
        "      n_samples, n_features = X_full.shape\n",
        "\n",
        "#Add missing values in 75% of the lines.\n",
        "      missing_rate = 0.75\n",
        "      n_missing_samples = int(n_samples * missing_rate)\n",
        "\n",
        "      missing_samples = np.zeros(n_samples, dtype=bool)\n",
        "      missing_samples[:n_missing_samples] = True\n",
        "\n",
        "      rng.shuffle(missing_samples)\n",
        "      missing_features = rng.randint(0, n_features, n_missing_samples)\n",
        "      X_missing = X_full.copy()\n",
        "      X_missing[missing_samples, missing_features] = np.nan\n",
        "      X_missing=pd.DataFrame(X_missing)\n",
        "      X_missing.columns=Col_names\n",
        "      return X_missing\n",
        "X_missing = add_missing_values(X)\n",
        "print(X_missing)\n",
        "print(X_missing.isnull().sum())"
      ]
    },
    {
      "cell_type": "markdown",
      "metadata": {
        "id": "sNhwID7JGHQz"
      },
      "source": [
        "\n",
        "#3.B. Impute the missing values using two different methods and assign the imputed output datasets into variables:"
      ]
    },
    {
      "cell_type": "code",
      "execution_count": null,
      "metadata": {
        "id": "nQDXRX4TIotK",
        "colab": {
          "base_uri": "https://localhost:8080/"
        },
        "outputId": "52fc61bc-440e-4f0f-c086-8d73119749fd"
      },
      "outputs": [
        {
          "output_type": "stream",
          "name": "stdout",
          "text": [
            "Missing Values Count after using Simple Imputer:\n",
            "cap-diameter       0\n",
            "cap-shape          0\n",
            "gill-attachment    0\n",
            "gill-color         0\n",
            "stem-height        0\n",
            "stem-width         0\n",
            "stem-color         0\n",
            "season             0 \n",
            "\n",
            "Missing Values Count after using KNN Imputer:\n",
            "cap-diameter       0\n",
            "cap-shape          0\n",
            "gill-attachment    0\n",
            "gill-color         0\n",
            "stem-height        0\n",
            "stem-width         0\n",
            "stem-color         0\n",
            "season             0\n"
          ]
        }
      ],
      "source": [
        "def fill_missing_values_simple(X_missing):\n",
        "#Completion of missing values by Simple Imputer.\n",
        "    sImputer = SimpleImputer(strategy=\"mean\")  #Fill in missing values with the mean of each column.\n",
        "    X_new = sImputer.fit_transform(X_missing)  #Calculate column means and fill in missing values.\n",
        "    X_new = pd.DataFrame(X_new, columns=X_missing.columns)  #Convert X_new back to a DataFrame with original column names.\n",
        "    return X_new\n",
        "\n",
        "#Example usage for Simple Imputer.\n",
        "X_new = fill_missing_values_simple(X_missing)\n",
        "print(\"Missing Values Count after using Simple Imputer:\")\n",
        "print(X_new.isnull().sum().to_string(), \"\\n\")  #Check if all the missing data have been handled and print it in a clean format.\n",
        "\n",
        "def fill_missing_values_knn(X_missing):\n",
        "    #Completion of missing values by KNN Imputer.\n",
        "    imputer_knn = KNNImputer(n_neighbors=10)  #KNN uses the ten nearest neighbors to impute missing values.\n",
        "    X_filled_knn = pd.DataFrame(imputer_knn.fit_transform(X_missing), columns=X_missing.columns)  #Fill missing values and save as DataFrame.\n",
        "    return X_filled_knn\n",
        "\n",
        "#Example usage for KNN Imputer.\n",
        "X_filled_knn = fill_missing_values_knn(X_missing)\n",
        "print(\"Missing Values Count after using KNN Imputer:\")\n",
        "print(X_filled_knn.isnull().sum().to_string())  #Check and print missing values count for X_filled_knn."
      ]
    },
    {
      "cell_type": "markdown",
      "metadata": {
        "id": "lAEMq4hijF84"
      },
      "source": [
        "#3.C. Convert categorical features to dummy variables if number of categories is lower than 5, otherwise remove from data.\n"
      ]
    },
    {
      "cell_type": "code",
      "execution_count": null,
      "metadata": {
        "id": "9FGOXjHHjYHw",
        "colab": {
          "base_uri": "https://localhost:8080/"
        },
        "outputId": "be323c06-5ec2-4b29-c508-7f0e5c908107"
      },
      "outputs": [
        {
          "output_type": "stream",
          "name": "stdout",
          "text": [
            "The table X_new after Dealing with abnormal values \n",
            "\n",
            "       cap-diameter     cap-shape  gill-attachment    gill-color  \\\n",
            "count  52959.000000  54035.000000     54035.000000  54035.000000   \n",
            "mean     561.053453      4.000428         2.138455      7.331126   \n",
            "std      320.585326      2.058069         2.122273      3.044335   \n",
            "min       27.000000      0.000000         0.000000      0.000000   \n",
            "25%      313.000000      2.000000         0.000000      5.000000   \n",
            "50%      567.348141      5.000000         2.000000      7.331126   \n",
            "75%      745.000000      6.000000         4.000000     10.000000   \n",
            "max     1613.000000      6.000000         6.000000     11.000000   \n",
            "\n",
            "        stem-height    stem-width    stem-color        season  \n",
            "count  53019.000000  53494.000000  53881.000000  54035.000000  \n",
            "mean       0.739626   1028.447189      8.441807      0.952016  \n",
            "std        0.563150    711.269214      3.072811      0.289614  \n",
            "min        0.011511      0.000000      1.000000      0.027372  \n",
            "25%        0.306808    472.000000      6.000000      0.888450  \n",
            "50%        0.672875   1042.000000      8.417748      0.943195  \n",
            "75%        0.986364   1427.000000     11.000000      0.943195  \n",
            "max        2.967900   3225.000000     12.000000      1.804273   \n",
            "\n",
            "Data of missing values ​​of X_new\n",
            "cap-diameter       1076\n",
            "cap-shape             0\n",
            "gill-attachment       0\n",
            "gill-color            0\n",
            "stem-height        1016\n",
            "stem-width          541\n",
            "stem-color          154\n",
            "season                0 \n",
            "\n",
            "The table X_filled_knn after Dealing with abnormal values \n",
            "\n",
            "       cap-diameter     cap-shape  gill-attachment    gill-color  \\\n",
            "count  52977.000000  54035.000000     54035.000000  54035.000000   \n",
            "mean     559.152438      4.003868         2.138503      7.325963   \n",
            "std      332.927079      2.083888         2.152860      3.086300   \n",
            "min       26.000000      0.000000         0.000000      0.000000   \n",
            "25%      296.000000      2.000000         0.000000      5.000000   \n",
            "50%      528.000000      5.000000         1.000000      7.500000   \n",
            "75%      770.000000      6.000000         4.000000     10.000000   \n",
            "max     1613.000000      6.000000         6.000000     11.000000   \n",
            "\n",
            "        stem-height    stem-width    stem-color        season  \n",
            "count  53019.000000  53494.000000  53881.000000  54035.000000  \n",
            "mean       0.739951   1025.250901      8.440424      0.952265  \n",
            "std        0.572830    739.067537      3.118602      0.291708  \n",
            "min        0.011511      0.000000      1.000000      0.027372  \n",
            "25%        0.302829    422.000000      6.000000      0.888450  \n",
            "50%        0.613703    919.000000      9.800000      0.943195  \n",
            "75%        1.026196   1489.000000     11.000000      0.943195  \n",
            "max        2.967900   3225.000000     12.000000      1.804273  \n",
            "Data of missing values ​​of X_filled_knn \n",
            "\n",
            "cap-diameter       1058\n",
            "cap-shape             0\n",
            "gill-attachment       0\n",
            "gill-color            0\n",
            "stem-height        1016\n",
            "stem-width          541\n",
            "stem-color          154\n",
            "season                0 \n",
            "\n",
            "Missing Values Count after using Simple Imputer:\n",
            "cap-diameter       0\n",
            "cap-shape          0\n",
            "gill-attachment    0\n",
            "gill-color         0\n",
            "stem-height        0\n",
            "stem-width         0\n",
            "stem-color         0\n",
            "season             0 \n",
            "\n",
            "Missing Values Count after using KNN Imputer:\n",
            "cap-diameter       0\n",
            "cap-shape          0\n",
            "gill-attachment    0\n",
            "gill-color         0\n",
            "stem-height        0\n",
            "stem-width         0\n",
            "stem-color         0\n",
            "season             0\n"
          ]
        }
      ],
      "source": [
        "#your code here:\n",
        "#Identify categorical columns:\n",
        "categorical_cols = X_new.select_dtypes(include=['object']).columns\n",
        "\n",
        "for col in categorical_cols:\n",
        "#If a column has more than 4 different categories, it is removed from the df_filled_mean and df_filled_knn data frames.\n",
        "    if X_new[col].nunique() > 4 or X_filled_knn[col].nunique() > 4:\n",
        "        X_new = X_new.drop(col, axis=1)\n",
        "        X_filled_knn = X_filled_knn.drop(col, axis=1)\n",
        "    else:\n",
        "#Convert to dummy variables.\n",
        "        X_new = pd.get_dummies(X_new, columns=[col], drop_first=True)\n",
        "        X_filled_knn = pd.get_dummies(X_filled_knn, columns=[col], drop_first=True)\n",
        "\n",
        "def handle_unreasonable_values(df):\n",
        "    for column in df.select_dtypes(include=['number']).columns:\n",
        "#Make sure the column is numeric.\n",
        "        if df[column].dtype in [np.int64, np.float64]:\n",
        "#Define lower and upper bounds.\n",
        "            lower_bound = df[column].quantile(0.01) #This is a lower bound, which provides the lowest value that is reasonable given the data.\n",
        "            upper_bound = df[column].quantile(0.99) #This is an upper limit, which provides the highest value that is reasonable.\n",
        "#Replace unreasonable values with NaN.\n",
        "            df[column] = df[column].mask((df[column] < lower_bound) | (df[column] > upper_bound))\n",
        "    return df\n",
        "\n",
        "X_new = handle_unreasonable_values(X_new) #Dealing with abnormal values.\n",
        "X_filled_knn = handle_unreasonable_values(X_filled_knn) #Dealing with abnormal values.\n",
        "\n",
        "\n",
        "print(\"The table X_new after Dealing with abnormal values\",\"\\n\")\n",
        "print(X_new.describe(),\"\\n\")\n",
        "print(\"Data of missing values ​​of X_new\")\n",
        "print(X_new.isnull().sum().to_string(),\"\\n\")\n",
        "\n",
        "print(\"The table X_filled_knn after Dealing with abnormal values\",\"\\n\")\n",
        "print(X_filled_knn.describe())\n",
        "print(\"Data of missing values ​​of X_filled_knn\",\"\\n\")\n",
        "print(X_filled_knn.isnull().sum().to_string(),\"\\n\")\n",
        "\n",
        "#Completion of missing values by Simple Imputer.\n",
        "X_new =fill_missing_values_simple(X_new)\n",
        "print(\"Missing Values Count after using Simple Imputer:\")\n",
        "print(X_new.isnull().sum().to_string(), \"\\n\")\n",
        "\n",
        "#Completion of missing values by KNN Imputer.\n",
        "X_filled_knn= fill_missing_values_knn(X_filled_knn)\n",
        "print(\"Missing Values Count after using KNN Imputer:\")\n",
        "print(X_filled_knn.isnull().sum().to_string())"
      ]
    },
    {
      "cell_type": "markdown",
      "source": [],
      "metadata": {
        "id": "wwqPhmnr39ZM"
      }
    },
    {
      "cell_type": "code",
      "source": [],
      "metadata": {
        "id": "9z_xzOwc3996"
      },
      "execution_count": null,
      "outputs": []
    },
    {
      "cell_type": "markdown",
      "source": [],
      "metadata": {
        "id": "m4fiJ5Mq3-L5"
      }
    },
    {
      "cell_type": "markdown",
      "metadata": {
        "id": "TqsoO5XOjaqd"
      },
      "source": [
        "#4. Train test split:"
      ]
    },
    {
      "cell_type": "code",
      "execution_count": null,
      "metadata": {
        "id": "5v_IudXzjaYW"
      },
      "outputs": [],
      "source": [
        "#your code here:\n",
        "X_train_mean, X_test_mean, y_train_mean, y_test_mean = train_test_split(X_new, y, stratify=y,test_size=0.2, random_state = 123)\n",
        "X_train_KNN, X_test_KNN, y_train_KNN, y_test_KNN = train_test_split( X_filled_knn, y,stratify=y, test_size=0.2, random_state = 123)"
      ]
    },
    {
      "cell_type": "markdown",
      "metadata": {
        "id": "GdbJRpF8IsY8"
      },
      "source": [
        "#5. Preprocessing (for both imputed datasets):\n",
        "a. standardize or normalize the data\n",
        "\n",
        "b. print visual representation of the y variable (the output/label variable) or/and value counts of the two categories to test if the data is imbalanced.  "
      ]
    },
    {
      "cell_type": "code",
      "execution_count": null,
      "metadata": {
        "id": "wzahU-AlJV3c",
        "colab": {
          "base_uri": "https://localhost:8080/",
          "height": 1000
        },
        "outputId": "d02fbaef-0fbf-4cf2-cd59-58b9f75f1923"
      },
      "outputs": [
        {
          "output_type": "display_data",
          "data": {
            "text/plain": [
              "<Figure size 600x400 with 0 Axes>"
            ]
          },
          "metadata": {}
        },
        {
          "output_type": "display_data",
          "data": {
            "text/plain": [
              "<Figure size 600x400 with 1 Axes>"
            ],
            "image/png": "[encoded data removed]"
          },
          "metadata": {}
        },
        {
          "output_type": "stream",
          "name": "stdout",
          "text": [
            "Class counts in the mean-imputed training set:\n",
            "class\n",
            "1    23740\n",
            "0    19488\n",
            "Name: count, dtype: int64\n"
          ]
        },
        {
          "output_type": "display_data",
          "data": {
            "text/plain": [
              "<Figure size 600x400 with 0 Axes>"
            ]
          },
          "metadata": {}
        },
        {
          "output_type": "display_data",
          "data": {
            "text/plain": [
              "<Figure size 600x400 with 1 Axes>"
            ],
            "image/png": "[encoded data removed]"
          },
          "metadata": {}
        },
        {
          "output_type": "stream",
          "name": "stdout",
          "text": [
            "Class counts in the KNN-imputed training set:\n",
            "class\n",
            "1    23740\n",
            "0    19488\n",
            "Name: count, dtype: int64\n",
            "class\n",
            "1    29675\n",
            "0    24360\n",
            "Name: count, dtype: int64\n"
          ]
        }
      ],
      "source": [
        "#your code here:\n",
        "#chatGPT  is used in order to maintain consistency and readability of the code\n",
        "#5a\n",
        "scaler_mean = MinMaxScaler()\n",
        "X_train_mean_scaled_df = scaler_mean.fit_transform(X_train_mean)\n",
        "X_test_mean_scaled_norm_df = scaler_mean.transform(X_test_mean)\n",
        "\n",
        "scaler_knn = MinMaxScaler()\n",
        "X_train_knn_scaled_df = scaler_knn.fit_transform(X_train_KNN)\n",
        "X_test_KNN_scaled_norm_df = scaler_knn.transform(X_test_KNN)\n",
        "\n",
        "#chatGPT is used to print the charts\n",
        "#5b\n",
        "#Visual representation and value counts for y variable to check for imbalance.\n",
        "plt.figure(figsize=(6, 4))\n",
        "mushroom = pd.Series(y_train_mean).value_counts()\n",
        "plt.figure(figsize=(6, 4))\n",
        "plt.bar(mushroom.index.map({1: 'Poisonous', 0: 'Not Poisonous'}), mushroom.values, color=['pink', 'cyan']) # Bar plot for class distribution (mean imputed dataset)\n",
        "plt.title('Class Distribution in Training Set (Mean Imputed)')\n",
        "plt.xlabel('Class')\n",
        "plt.ylabel('Frequency')\n",
        "plt.show()\n",
        "\n",
        "#Print value counts of each class in the training set.\n",
        "class_counts_mean = y_train_mean.value_counts()\n",
        "print(\"Class counts in the mean-imputed training set:\")\n",
        "print(class_counts_mean)\n",
        "\n",
        "#Do the same for the KNN imputed dataset.\n",
        "plt.figure(figsize=(6, 4))\n",
        "mushroom = pd.Series(y_train_mean).value_counts()\n",
        "plt.figure(figsize=(6, 4))\n",
        "plt.bar(mushroom.index.map({1:'Poisonous', 0: 'Not Poisonous'}), mushroom.values, color=['pink', 'cyan']) #Bar plot for class distribution (KNN imputed dataset).\n",
        "plt.title('Class Distribution in Training Set (KNN Imputed)')\n",
        "plt.xlabel('Class')\n",
        "plt.ylabel('Frequency')\n",
        "plt.show()\n",
        "\n",
        "#Print value counts of each class in the KNN-imputed training set.\n",
        "class_counts_knn = y_train_KNN.value_counts()\n",
        "print(\"Class counts in the KNN-imputed training set:\")\n",
        "print(class_counts_knn)\n",
        "\n",
        "#Check the count of each category.\n",
        "category_counts = y.value_counts()\n",
        "\n",
        "#Print the count of each category.\n",
        "print(category_counts)"
      ]
    },
    {
      "cell_type": "markdown",
      "metadata": {
        "id": "46Pr9C1CLnlL"
      },
      "source": [
        "#6. Choose one balancing method and perform it on your data.\n",
        "\n",
        "Verbally explain the logic behind the chosen balancing metohd, how does it work?"
      ]
    },
    {
      "cell_type": "code",
      "source": [
        "#your code here, if balancing is requierd:\n",
        "#We consulted about this question in the chat because there was no severe imbalance, so we were unsure how to proceed.\n",
        "#Create a SMOTE object.\n",
        "smote = SMOTE(random_state=42)\n",
        "\n",
        "#Balance the data using SMOTE.\n",
        "X_train_mean_balanced, y_train_mean_balanced = smote.fit_resample(X_train_mean_scaled_df, y_train_mean)\n",
        "X_train_knn_balanced, y_train_knn_balanced = smote.fit_resample(X_train_knn_scaled_df , y_train_mean)\n",
        "\n",
        "#chatGPT is used to print the chart\n",
        "#Display the distribution after balancing using SMOTE.\n",
        "plt.figure(figsize=(6, 4))\n",
        "sns.countplot(x=y_train_mean_balanced, palette='pastel')\n",
        "plt.title('Class Distribution in Training Set After SMOTE')\n",
        "plt.xlabel('Class')\n",
        "plt.ylabel('Frequency')\n",
        "plt.xticks([0, 1], ['Not Poisonous', 'Poisonous'])\n",
        "plt.show()\n",
        "\n",
        "#Count each category after balancing.\n",
        "class_counts_mean_balanced = pd.Series(y_train_mean_balanced).value_counts()\n",
        "print(\"Class counts after SMOTE (Mean Imputed):\")\n",
        "print(class_counts_mean_balanced)\n"
      ],
      "metadata": {
        "colab": {
          "base_uri": "https://localhost:8080/",
          "height": 584
        },
        "id": "ES9Iz9QcuaPL",
        "outputId": "c57ebb0f-2a13-4465-bf01-00b6c25a565b"
      },
      "execution_count": null,
      "outputs": [
        {
          "output_type": "stream",
          "name": "stderr",
          "text": [
            "<ipython-input-13-96834bf2e13a>:13: FutureWarning: \n",
            "\n",
            "Passing `palette` without assigning `hue` is deprecated and will be removed in v0.14.0. Assign the `x` variable to `hue` and set `legend=False` for the same effect.\n",
            "\n",
            "  sns.countplot(x=y_train_mean_balanced, palette='pastel')\n"
          ]
        },
        {
          "output_type": "display_data",
          "data": {
            "text/plain": [
              "<Figure size 600x400 with 1 Axes>"
            ],
            "image/png": "[encoded data removed]"
          },
          "metadata": {}
        },
        {
          "output_type": "stream",
          "name": "stdout",
          "text": [
            "Class counts after SMOTE (Mean Imputed):\n",
            "class\n",
            "1    23740\n",
            "0    23740\n",
            "Name: count, dtype: int64\n"
          ]
        }
      ]
    },
    {
      "cell_type": "markdown",
      "metadata": {
        "id": "2B1KVYl3LYTM"
      },
      "source": [
        "#Your answer here:\n",
        "\n"
      ]
    },
    {
      "cell_type": "markdown",
      "source": [
        "WORD תשובה בקובץ"
      ],
      "metadata": {
        "id": "S0KQr_irBgGR"
      }
    },
    {
      "cell_type": "markdown",
      "metadata": {
        "id": "p32CMu4SNEQb"
      },
      "source": [
        "#7. Training models (for both imputed datasets):\n",
        "**a.** choose three classification algorithms, two must be either random forest or XGBoost or catboost or LGBM, and apply the algorithms on the train set.  \n",
        "\n",
        "**b.** apply hyperparameter tuning on at least two algorithms using gridsearchCV function.\n",
        "\n",
        "**c.** print the best hyperparameters for the three models.\n",
        "\n",
        "Reminder, if the tuned model is named \"grid\" than to get the best hyperparameter combination use the following function:\n",
        "\n",
        "\n",
        "```\n",
        "grid.best_params_\n",
        "```\n",
        "\n",
        "\n",
        "**d.** Veraverbally explain: what is the role of the chosen hyperparmeters in the learning algorithms? How did you choose the values for the optimization? (in 3-4 lines)\n"
      ]
    },
    {
      "cell_type": "code",
      "source": [
        "#your code here:\n",
        "#Model 1- Random Forest.\n",
        "#chatGPT used in order to maintain consistency and readability of the code. Adjustments were made in the parameters according to attempts to improve the indices\n",
        "#Define the parameter grid for Random Forest.\n",
        "param_grid_rf = {\n",
        "    'n_estimators': [10, 20,30,40,50], #Number of trees in the forest.\n",
        "    'max_depth': [7,8,9,10,11], #Maximum depth of the tree.\n",
        "}\n",
        "\n",
        "#Initialize the model.\n",
        "rf = RandomForestClassifier(random_state=42)\n",
        "\n",
        "#Initialize GridSearchCV.\n",
        "grid_search_rf = GridSearchCV(estimator=rf, param_grid=param_grid_rf, refit=True, n_jobs=-1, verbose=3)\n",
        "\n",
        "#Fit GridSearchCV for mean-imputed data.\n",
        "grid_search_rf.fit(X_train_mean_balanced,y_train_mean_balanced)\n",
        "\n",
        "#Print the best parameters and best score for Random Forest.\n",
        "print(\"Best parameters for Random Forest (mean-imputed data):\", grid_search_rf.best_params_)\n",
        "\n",
        "grid_search_rf_knn = GridSearchCV(estimator=rf, param_grid=param_grid_rf, refit=True, n_jobs=-1, verbose=3)\n",
        "grid_search_rf_knn.fit(X_train_knn_balanced, y_train_knn_balanced)\n",
        "print(\"Best parameters for Random Forest (KNN-imputed data):\", grid_search_rf_knn.best_params_)\n",
        "\n",
        "#Model 2- CatBoost.\n",
        "scaler = MinMaxScaler()\n",
        "catboost_model = CatBoostClassifier(random_state=123, silent=True)\n",
        "steps = [(\"scaler\", scaler), (\"classifier\", catboost_model)]\n",
        "pipeline = Pipeline(steps)\n",
        "#Defining the hyperparameters.\n",
        "cat_param_grid = {'classifier__depth':[6,7,8,9,10], 'classifier__iterations':[70,80,100,120,150],}\n",
        "\n",
        "cat_grid_search = GridSearchCV(pipeline, param_grid=cat_param_grid, cv=2, n_jobs=-1, verbose=3)\n",
        "cat_grid_search.fit(X_train_mean_balanced, y_train_mean_balanced)\n",
        "print(\"Best parameters for CatBoost (mean-imputed data):\", cat_grid_search.best_params_)\n",
        "\n",
        "cat_grid_search_knn = GridSearchCV(pipeline, param_grid=cat_param_grid, cv=2, n_jobs=-1, verbose=3)\n",
        "cat_grid_search_knn.fit(X_train_knn_balanced, y_train_knn_balanced)\n",
        "print(\"Best parameters for CatBoost (KNN-imputed data):\", cat_grid_search_knn.best_params_)\n",
        "\n",
        "#We used ChatGPT to assist in implementing this algorithm.\n",
        "#An algorithm not taught in class Gradient Boosting.\n",
        "gb_model = GradientBoostingClassifier(random_state=42)\n",
        "param_grid_gb = {\n",
        "    'n_estimators':[100, 200],  #Count the trees.\n",
        "    'learning_rate':[0.01, 0.1, 0.2]  #Learning Rate.\n",
        "}\n",
        "\n",
        "grid_search_gb_mean = GridSearchCV(estimator=gb_model, param_grid=param_grid_gb, cv=5, n_jobs=-1, verbose=3)\n",
        "grid_search_gb_mean.fit(X_train_mean_balanced, y_train_mean_balanced)\n",
        "print(\"Best parameters for Gradient Boosting (mean-imputed data):\", grid_search_gb_mean.best_params_)\n",
        "\n",
        "grid_search_gb_knn = GridSearchCV(estimator=gb_model, param_grid=param_grid_gb, cv=5, n_jobs=-1, verbose=3)\n",
        "grid_search_gb_knn.fit(X_train_knn_balanced, y_train_knn_balanced)\n",
        "print(\"Best parameters for Gradient Boosting (KNN-imputed data):\", grid_search_gb_knn.best_params_)"
      ],
      "metadata": {
        "id": "Ky1KehS5am3D",
        "colab": {
          "base_uri": "https://localhost:8080/"
        },
        "outputId": "69fa0aa9-eb26-4c09-cc49-f167711f15cb"
      },
      "execution_count": null,
      "outputs": [
        {
          "output_type": "stream",
          "name": "stdout",
          "text": [
            "Fitting 5 folds for each of 25 candidates, totalling 125 fits\n"
          ]
        },
        {
          "output_type": "stream",
          "name": "stderr",
          "text": [
            "/usr/local/lib/python3.10/dist-packages/numpy/ma/core.py:2820: RuntimeWarning: invalid value encountered in cast\n",
            "  _data = np.array(data, dtype=dtype, copy=copy,\n"
          ]
        },
        {
          "output_type": "stream",
          "name": "stdout",
          "text": [
            "Best parameters for Random Forest (mean-imputed data): {'max_depth': 11, 'n_estimators': 50}\n",
            "Fitting 5 folds for each of 25 candidates, totalling 125 fits\n",
            "Best parameters for Random Forest (KNN-imputed data): {'max_depth': 11, 'n_estimators': 50}\n",
            "Fitting 2 folds for each of 25 candidates, totalling 50 fits\n",
            "Best parameters for CatBoost (mean-imputed data): {'classifier__depth': 10, 'classifier__iterations': 120}\n",
            "Fitting 2 folds for each of 25 candidates, totalling 50 fits\n",
            "Best parameters for CatBoost (KNN-imputed data): {'classifier__depth': 10, 'classifier__iterations': 150}\n",
            "Fitting 5 folds for each of 6 candidates, totalling 30 fits\n",
            "Best parameters for Gradient Boosting (mean-imputed data): {'learning_rate': 0.2, 'n_estimators': 200}\n",
            "Fitting 5 folds for each of 6 candidates, totalling 30 fits\n",
            "Best parameters for Gradient Boosting (KNN-imputed data): {'learning_rate': 0.2, 'n_estimators': 200}\n"
          ]
        }
      ]
    },
    {
      "cell_type": "markdown",
      "metadata": {
        "id": "ySInCwHzY6kG"
      },
      "source": [
        "#Your answer here:\n",
        "\n"
      ]
    },
    {
      "cell_type": "markdown",
      "source": [
        "WORD תשובה בקובץ"
      ],
      "metadata": {
        "id": "n3uJjU31MtP6"
      }
    },
    {
      "cell_type": "markdown",
      "metadata": {
        "id": "WbNQJ0fakULJ"
      },
      "source": [
        "#8. Train a neural network on both imputed datasets."
      ]
    },
    {
      "cell_type": "code",
      "source": [
        "#your code here:\n",
        "#Model 1: Define the neural network.\n",
        "model_mean = Sequential()\n",
        "model_mean.add(Input(shape=(8,))) #Input layer with 8 features.\n",
        "\n",
        "model_knn = Sequential()\n",
        "model_knn.add(Input(shape=(8,))) #Input layer with 8 features.\n",
        "\n",
        "#First hidden layer with 64 neurons + input layer.\n",
        "model_mean.add(Dense(64, activation='relu'))\n",
        "\n",
        "model_knn.add(Dense(64, activation='relu'))\n",
        "\n",
        "#Second hidden layer with 32 neurons, includes Dropout for regularization.\n",
        "model_mean.add(Dropout(0.5))\n",
        "model_mean.add(Dense(32, activation='relu'))\n",
        "\n",
        "model_knn.add(Dropout(0.5))\n",
        "model_knn.add(Dense(32, activation='relu'))\n",
        "\n",
        "#Output layer with sigmoid activation for binary classification.\n",
        "model_mean.add(Dense(1, activation='sigmoid'))\n",
        "\n",
        "model_knn.add(Dense(1, activation='sigmoid'))\n",
        "\n",
        "#compile the model: using Adam (Adaptive Moment Estimation) optimizer, binary cross-entropy loss, and accuracy metric.\n",
        "model_mean.compile(optimizer='adam', loss='binary_crossentropy', metrics=['accuracy'])\n",
        "\n",
        "model_knn.compile(optimizer='adam', loss='binary_crossentropy', metrics=['accuracy'])\n",
        "\n",
        "#Train on the second dataset.\n",
        "history_mean=model_mean.fit(X_train_mean_scaled_df,y_train_mean_balanced, epochs=35, batch_size=33, validation_split=0.2)\n",
        "\n",
        "history_knn = model_knn.fit(X_train_knn_scaled_df, y_train_knn_balanced, epochs=35, batch_size=33, validation_split=0.2)\n",
        "\n",
        "#Display the models summary.\n",
        "model_mean.summary()\n",
        "\n",
        "model_knn.summary()"
      ],
      "metadata": {
        "colab": {
          "base_uri": "https://localhost:8080/",
          "height": 1000
        },
        "id": "F5Rk7N5sC0F8",
        "outputId": "6b5f0fe7-ce53-4e49-c089-68fc0c5e2dda"
      },
      "execution_count": null,
      "outputs": [
        {
          "output_type": "stream",
          "name": "stdout",
          "text": [
            "Epoch 1/35\n",
            "\u001b[1m1048/1048\u001b[0m \u001b[32m━━━━━━━━━━━━━━━━━━━━\u001b[0m\u001b[37m\u001b[0m \u001b[1m5s\u001b[0m 2ms/step - accuracy: 0.5876 - loss: 0.6638 - val_accuracy: 0.6585 - val_loss: 0.6063\n",
            "Epoch 2/35\n",
            "\u001b[1m1048/1048\u001b[0m \u001b[32m━━━━━━━━━━━━━━━━━━━━\u001b[0m\u001b[37m\u001b[0m \u001b[1m2s\u001b[0m 2ms/step - accuracy: 0.6535 - loss: 0.6181 - val_accuracy: 0.6947 - val_loss: 0.5770\n",
            "Epoch 3/35\n",
            "\u001b[1m1048/1048\u001b[0m \u001b[32m━━━━━━━━━━━━━━━━━━━━\u001b[0m\u001b[37m\u001b[0m \u001b[1m2s\u001b[0m 2ms/step - accuracy: 0.6778 - loss: 0.5905 - val_accuracy: 0.7141 - val_loss: 0.5542\n",
            "Epoch 4/35\n",
            "\u001b[1m1048/1048\u001b[0m \u001b[32m━━━━━━━━━━━━━━━━━━━━\u001b[0m\u001b[37m\u001b[0m \u001b[1m2s\u001b[0m 2ms/step - accuracy: 0.6886 - loss: 0.5755 - val_accuracy: 0.7270 - val_loss: 0.5368\n",
            "Epoch 5/35\n",
            "\u001b[1m1048/1048\u001b[0m \u001b[32m━━━━━━━━━━━━━━━━━━━━\u001b[0m\u001b[37m\u001b[0m \u001b[1m2s\u001b[0m 2ms/step - accuracy: 0.7024 - loss: 0.5622 - val_accuracy: 0.7427 - val_loss: 0.5216\n",
            "Epoch 6/35\n",
            "\u001b[1m1048/1048\u001b[0m \u001b[32m━━━━━━━━━━━━━━━━━━━━\u001b[0m\u001b[37m\u001b[0m \u001b[1m4s\u001b[0m 3ms/step - accuracy: 0.7026 - loss: 0.5556 - val_accuracy: 0.7469 - val_loss: 0.5091\n",
            "Epoch 7/35\n",
            "\u001b[1m1048/1048\u001b[0m \u001b[32m━━━━━━━━━━━━━━━━━━━━\u001b[0m\u001b[37m\u001b[0m \u001b[1m4s\u001b[0m 2ms/step - accuracy: 0.7212 - loss: 0.5405 - val_accuracy: 0.7614 - val_loss: 0.4973\n",
            "Epoch 8/35\n",
            "\u001b[1m1048/1048\u001b[0m \u001b[32m━━━━━━━━━━━━━━━━━━━━\u001b[0m\u001b[37m\u001b[0m \u001b[1m2s\u001b[0m 2ms/step - accuracy: 0.7261 - loss: 0.5332 - val_accuracy: 0.7597 - val_loss: 0.4916\n",
            "Epoch 9/35\n",
            "\u001b[1m1048/1048\u001b[0m \u001b[32m━━━━━━━━━━━━━━━━━━━━\u001b[0m\u001b[37m\u001b[0m \u001b[1m3s\u001b[0m 2ms/step - accuracy: 0.7273 - loss: 0.5274 - val_accuracy: 0.7659 - val_loss: 0.4770\n",
            "Epoch 10/35\n",
            "\u001b[1m1048/1048\u001b[0m \u001b[32m━━━━━━━━━━━━━━━━━━━━\u001b[0m\u001b[37m\u001b[0m \u001b[1m3s\u001b[0m 2ms/step - accuracy: 0.7308 - loss: 0.5210 - val_accuracy: 0.7512 - val_loss: 0.4844\n",
            "Epoch 11/35\n",
            "\u001b[1m1048/1048\u001b[0m \u001b[32m━━━━━━━━━━━━━━━━━━━━\u001b[0m\u001b[37m\u001b[0m \u001b[1m4s\u001b[0m 4ms/step - accuracy: 0.7364 - loss: 0.5142 - val_accuracy: 0.7708 - val_loss: 0.4636\n",
            "Epoch 12/35\n",
            "\u001b[1m1048/1048\u001b[0m \u001b[32m━━━━━━━━━━━━━━━━━━━━\u001b[0m\u001b[37m\u001b[0m \u001b[1m3s\u001b[0m 2ms/step - accuracy: 0.7386 - loss: 0.5090 - val_accuracy: 0.7646 - val_loss: 0.4684\n",
            "Epoch 13/35\n",
            "\u001b[1m1048/1048\u001b[0m \u001b[32m━━━━━━━━━━━━━━━━━━━━\u001b[0m\u001b[37m\u001b[0m \u001b[1m3s\u001b[0m 2ms/step - accuracy: 0.7347 - loss: 0.5070 - val_accuracy: 0.7686 - val_loss: 0.4564\n",
            "Epoch 14/35\n",
            "\u001b[1m1048/1048\u001b[0m \u001b[32m━━━━━━━━━━━━━━━━━━━━\u001b[0m\u001b[37m\u001b[0m \u001b[1m2s\u001b[0m 2ms/step - accuracy: 0.7413 - loss: 0.5028 - val_accuracy: 0.7785 - val_loss: 0.4550\n",
            "Epoch 15/35\n",
            "\u001b[1m1048/1048\u001b[0m \u001b[32m━━━━━━━━━━━━━━━━━━━━\u001b[0m\u001b[37m\u001b[0m \u001b[1m3s\u001b[0m 2ms/step - accuracy: 0.7487 - loss: 0.4981 - val_accuracy: 0.7794 - val_loss: 0.4522\n",
            "Epoch 16/35\n",
            "\u001b[1m1048/1048\u001b[0m \u001b[32m━━━━━━━━━━━━━━━━━━━━\u001b[0m\u001b[37m\u001b[0m \u001b[1m4s\u001b[0m 3ms/step - accuracy: 0.7483 - loss: 0.4966 - val_accuracy: 0.7910 - val_loss: 0.4403\n",
            "Epoch 17/35\n",
            "\u001b[1m1048/1048\u001b[0m \u001b[32m━━━━━━━━━━━━━━━━━━━━\u001b[0m\u001b[37m\u001b[0m \u001b[1m4s\u001b[0m 2ms/step - accuracy: 0.7448 - loss: 0.4966 - val_accuracy: 0.7828 - val_loss: 0.4455\n",
            "Epoch 18/35\n",
            "\u001b[1m1048/1048\u001b[0m \u001b[32m━━━━━━━━━━━━━━━━━━━━\u001b[0m\u001b[37m\u001b[0m \u001b[1m3s\u001b[0m 2ms/step - accuracy: 0.7492 - loss: 0.4930 - val_accuracy: 0.7805 - val_loss: 0.4451\n",
            "Epoch 19/35\n",
            "\u001b[1m1048/1048\u001b[0m \u001b[32m━━━━━━━━━━━━━━━━━━━━\u001b[0m\u001b[37m\u001b[0m \u001b[1m2s\u001b[0m 2ms/step - accuracy: 0.7494 - loss: 0.4927 - val_accuracy: 0.7913 - val_loss: 0.4312\n",
            "Epoch 20/35\n",
            "\u001b[1m1048/1048\u001b[0m \u001b[32m━━━━━━━━━━━━━━━━━━━━\u001b[0m\u001b[37m\u001b[0m \u001b[1m2s\u001b[0m 2ms/step - accuracy: 0.7536 - loss: 0.4836 - val_accuracy: 0.7983 - val_loss: 0.4273\n",
            "Epoch 21/35\n",
            "\u001b[1m1048/1048\u001b[0m \u001b[32m━━━━━━━━━━━━━━━━━━━━\u001b[0m\u001b[37m\u001b[0m \u001b[1m4s\u001b[0m 3ms/step - accuracy: 0.7610 - loss: 0.4782 - val_accuracy: 0.7917 - val_loss: 0.4305\n",
            "Epoch 22/35\n",
            "\u001b[1m1048/1048\u001b[0m \u001b[32m━━━━━━━━━━━━━━━━━━━━\u001b[0m\u001b[37m\u001b[0m \u001b[1m3s\u001b[0m 2ms/step - accuracy: 0.7588 - loss: 0.4820 - val_accuracy: 0.7982 - val_loss: 0.4318\n",
            "Epoch 23/35\n",
            "\u001b[1m1048/1048\u001b[0m \u001b[32m━━━━━━━━━━━━━━━━━━━━\u001b[0m\u001b[37m\u001b[0m \u001b[1m3s\u001b[0m 3ms/step - accuracy: 0.7598 - loss: 0.4794 - val_accuracy: 0.8081 - val_loss: 0.4183\n",
            "Epoch 24/35\n",
            "\u001b[1m1048/1048\u001b[0m \u001b[32m━━━━━━━━━━━━━━━━━━━━\u001b[0m\u001b[37m\u001b[0m \u001b[1m4s\u001b[0m 2ms/step - accuracy: 0.7602 - loss: 0.4762 - val_accuracy: 0.8009 - val_loss: 0.4226\n",
            "Epoch 25/35\n",
            "\u001b[1m1048/1048\u001b[0m \u001b[32m━━━━━━━━━━━━━━━━━━━━\u001b[0m\u001b[37m\u001b[0m \u001b[1m3s\u001b[0m 3ms/step - accuracy: 0.7581 - loss: 0.4823 - val_accuracy: 0.7968 - val_loss: 0.4251\n",
            "Epoch 26/35\n",
            "\u001b[1m1048/1048\u001b[0m \u001b[32m━━━━━━━━━━━━━━━━━━━━\u001b[0m\u001b[37m\u001b[0m \u001b[1m4s\u001b[0m 2ms/step - accuracy: 0.7610 - loss: 0.4765 - val_accuracy: 0.8067 - val_loss: 0.4165\n",
            "Epoch 27/35\n",
            "\u001b[1m1048/1048\u001b[0m \u001b[32m━━━━━━━━━━━━━━━━━━━━\u001b[0m\u001b[37m\u001b[0m \u001b[1m2s\u001b[0m 2ms/step - accuracy: 0.7645 - loss: 0.4741 - val_accuracy: 0.7991 - val_loss: 0.4233\n",
            "Epoch 28/35\n",
            "\u001b[1m1048/1048\u001b[0m \u001b[32m━━━━━━━━━━━━━━━━━━━━\u001b[0m\u001b[37m\u001b[0m \u001b[1m2s\u001b[0m 2ms/step - accuracy: 0.7614 - loss: 0.4718 - val_accuracy: 0.7842 - val_loss: 0.4312\n",
            "Epoch 29/35\n",
            "\u001b[1m1048/1048\u001b[0m \u001b[32m━━━━━━━━━━━━━━━━━━━━\u001b[0m\u001b[37m\u001b[0m \u001b[1m3s\u001b[0m 2ms/step - accuracy: 0.7677 - loss: 0.4688 - val_accuracy: 0.8093 - val_loss: 0.4067\n",
            "Epoch 30/35\n",
            "\u001b[1m1048/1048\u001b[0m \u001b[32m━━━━━━━━━━━━━━━━━━━━\u001b[0m\u001b[37m\u001b[0m \u001b[1m5s\u001b[0m 2ms/step - accuracy: 0.7661 - loss: 0.4688 - val_accuracy: 0.8007 - val_loss: 0.4179\n",
            "Epoch 31/35\n",
            "\u001b[1m1048/1048\u001b[0m \u001b[32m━━━━━━━━━━━━━━━━━━━━\u001b[0m\u001b[37m\u001b[0m \u001b[1m2s\u001b[0m 2ms/step - accuracy: 0.7648 - loss: 0.4694 - val_accuracy: 0.8081 - val_loss: 0.4094\n",
            "Epoch 32/35\n",
            "\u001b[1m1048/1048\u001b[0m \u001b[32m━━━━━━━━━━━━━━━━━━━━\u001b[0m\u001b[37m\u001b[0m \u001b[1m2s\u001b[0m 2ms/step - accuracy: 0.7694 - loss: 0.4604 - val_accuracy: 0.8044 - val_loss: 0.4121\n",
            "Epoch 33/35\n",
            "\u001b[1m1048/1048\u001b[0m \u001b[32m━━━━━━━━━━━━━━━━━━━━\u001b[0m\u001b[37m\u001b[0m \u001b[1m2s\u001b[0m 2ms/step - accuracy: 0.7714 - loss: 0.4643 - val_accuracy: 0.8035 - val_loss: 0.4116\n",
            "Epoch 34/35\n",
            "\u001b[1m1048/1048\u001b[0m \u001b[32m━━━━━━━━━━━━━━━━━━━━\u001b[0m\u001b[37m\u001b[0m \u001b[1m4s\u001b[0m 3ms/step - accuracy: 0.7728 - loss: 0.4639 - val_accuracy: 0.7998 - val_loss: 0.4106\n",
            "Epoch 35/35\n",
            "\u001b[1m1048/1048\u001b[0m \u001b[32m━━━━━━━━━━━━━━━━━━━━\u001b[0m\u001b[37m\u001b[0m \u001b[1m4s\u001b[0m 2ms/step - accuracy: 0.7679 - loss: 0.4649 - val_accuracy: 0.8149 - val_loss: 0.4010\n",
            "Epoch 1/35\n",
            "\u001b[1m1048/1048\u001b[0m \u001b[32m━━━━━━━━━━━━━━━━━━━━\u001b[0m\u001b[37m\u001b[0m \u001b[1m3s\u001b[0m 2ms/step - accuracy: 0.5900 - loss: 0.6641 - val_accuracy: 0.6653 - val_loss: 0.6069\n",
            "Epoch 2/35\n",
            "\u001b[1m1048/1048\u001b[0m \u001b[32m━━━━━━━━━━━━━━━━━━━━\u001b[0m\u001b[37m\u001b[0m \u001b[1m2s\u001b[0m 2ms/step - accuracy: 0.6575 - loss: 0.6116 - val_accuracy: 0.6911 - val_loss: 0.5684\n",
            "Epoch 3/35\n",
            "\u001b[1m1048/1048\u001b[0m \u001b[32m━━━━━━━━━━━━━━━━━━━━\u001b[0m\u001b[37m\u001b[0m \u001b[1m4s\u001b[0m 3ms/step - accuracy: 0.6807 - loss: 0.5842 - val_accuracy: 0.7083 - val_loss: 0.5389\n",
            "Epoch 4/35\n",
            "\u001b[1m1048/1048\u001b[0m \u001b[32m━━━━━━━━━━━━━━━━━━━━\u001b[0m\u001b[37m\u001b[0m \u001b[1m4s\u001b[0m 2ms/step - accuracy: 0.7002 - loss: 0.5611 - val_accuracy: 0.7401 - val_loss: 0.5154\n",
            "Epoch 5/35\n",
            "\u001b[1m1048/1048\u001b[0m \u001b[32m━━━━━━━━━━━━━━━━━━━━\u001b[0m\u001b[37m\u001b[0m \u001b[1m3s\u001b[0m 2ms/step - accuracy: 0.7094 - loss: 0.5495 - val_accuracy: 0.7497 - val_loss: 0.4968\n",
            "Epoch 6/35\n",
            "\u001b[1m1048/1048\u001b[0m \u001b[32m━━━━━━━━━━━━━━━━━━━━\u001b[0m\u001b[37m\u001b[0m \u001b[1m2s\u001b[0m 2ms/step - accuracy: 0.7130 - loss: 0.5395 - val_accuracy: 0.7641 - val_loss: 0.4818\n",
            "Epoch 7/35\n",
            "\u001b[1m1048/1048\u001b[0m \u001b[32m━━━━━━━━━━━━━━━━━━━━\u001b[0m\u001b[37m\u001b[0m \u001b[1m2s\u001b[0m 2ms/step - accuracy: 0.7317 - loss: 0.5244 - val_accuracy: 0.7730 - val_loss: 0.4710\n",
            "Epoch 8/35\n",
            "\u001b[1m1048/1048\u001b[0m \u001b[32m━━━━━━━━━━━━━━━━━━━━\u001b[0m\u001b[37m\u001b[0m \u001b[1m3s\u001b[0m 3ms/step - accuracy: 0.7316 - loss: 0.5162 - val_accuracy: 0.7819 - val_loss: 0.4629\n",
            "Epoch 9/35\n",
            "\u001b[1m1048/1048\u001b[0m \u001b[32m━━━━━━━━━━━━━━━━━━━━\u001b[0m\u001b[37m\u001b[0m \u001b[1m3s\u001b[0m 2ms/step - accuracy: 0.7396 - loss: 0.5100 - val_accuracy: 0.7849 - val_loss: 0.4567\n",
            "Epoch 10/35\n",
            "\u001b[1m1048/1048\u001b[0m \u001b[32m━━━━━━━━━━━━━━━━━━━━\u001b[0m\u001b[37m\u001b[0m \u001b[1m2s\u001b[0m 2ms/step - accuracy: 0.7446 - loss: 0.5061 - val_accuracy: 0.7845 - val_loss: 0.4507\n",
            "Epoch 11/35\n",
            "\u001b[1m1048/1048\u001b[0m \u001b[32m━━━━━━━━━━━━━━━━━━━━\u001b[0m\u001b[37m\u001b[0m \u001b[1m3s\u001b[0m 2ms/step - accuracy: 0.7523 - loss: 0.4952 - val_accuracy: 0.7887 - val_loss: 0.4441\n",
            "Epoch 12/35\n",
            "\u001b[1m1048/1048\u001b[0m \u001b[32m━━━━━━━━━━━━━━━━━━━━\u001b[0m\u001b[37m\u001b[0m \u001b[1m3s\u001b[0m 2ms/step - accuracy: 0.7472 - loss: 0.4977 - val_accuracy: 0.7955 - val_loss: 0.4354\n",
            "Epoch 13/35\n",
            "\u001b[1m1048/1048\u001b[0m \u001b[32m━━━━━━━━━━━━━━━━━━━━\u001b[0m\u001b[37m\u001b[0m \u001b[1m3s\u001b[0m 2ms/step - accuracy: 0.7535 - loss: 0.4898 - val_accuracy: 0.8000 - val_loss: 0.4281\n",
            "Epoch 14/35\n",
            "\u001b[1m1048/1048\u001b[0m \u001b[32m━━━━━━━━━━━━━━━━━━━━\u001b[0m\u001b[37m\u001b[0m \u001b[1m5s\u001b[0m 2ms/step - accuracy: 0.7569 - loss: 0.4871 - val_accuracy: 0.8009 - val_loss: 0.4251\n",
            "Epoch 15/35\n",
            "\u001b[1m1048/1048\u001b[0m \u001b[32m━━━━━━━━━━━━━━━━━━━━\u001b[0m\u001b[37m\u001b[0m \u001b[1m2s\u001b[0m 2ms/step - accuracy: 0.7625 - loss: 0.4797 - val_accuracy: 0.8040 - val_loss: 0.4182\n",
            "Epoch 16/35\n",
            "\u001b[1m1048/1048\u001b[0m \u001b[32m━━━━━━━━━━━━━━━━━━━━\u001b[0m\u001b[37m\u001b[0m \u001b[1m3s\u001b[0m 2ms/step - accuracy: 0.7638 - loss: 0.4749 - val_accuracy: 0.8065 - val_loss: 0.4097\n",
            "Epoch 17/35\n",
            "\u001b[1m1048/1048\u001b[0m \u001b[32m━━━━━━━━━━━━━━━━━━━━\u001b[0m\u001b[37m\u001b[0m \u001b[1m2s\u001b[0m 2ms/step - accuracy: 0.7762 - loss: 0.4655 - val_accuracy: 0.8073 - val_loss: 0.4048\n",
            "Epoch 18/35\n",
            "\u001b[1m1048/1048\u001b[0m \u001b[32m━━━━━━━━━━━━━━━━━━━━\u001b[0m\u001b[37m\u001b[0m \u001b[1m4s\u001b[0m 4ms/step - accuracy: 0.7709 - loss: 0.4626 - val_accuracy: 0.8108 - val_loss: 0.4049\n",
            "Epoch 19/35\n",
            "\u001b[1m1048/1048\u001b[0m \u001b[32m━━━━━━━━━━━━━━━━━━━━\u001b[0m\u001b[37m\u001b[0m \u001b[1m3s\u001b[0m 2ms/step - accuracy: 0.7701 - loss: 0.4614 - val_accuracy: 0.8189 - val_loss: 0.3963\n",
            "Epoch 20/35\n",
            "\u001b[1m1048/1048\u001b[0m \u001b[32m━━━━━━━━━━━━━━━━━━━━\u001b[0m\u001b[37m\u001b[0m \u001b[1m2s\u001b[0m 2ms/step - accuracy: 0.7753 - loss: 0.4545 - val_accuracy: 0.8250 - val_loss: 0.3937\n",
            "Epoch 21/35\n",
            "\u001b[1m1048/1048\u001b[0m \u001b[32m━━━━━━━━━━━━━━━━━━━━\u001b[0m\u001b[37m\u001b[0m \u001b[1m2s\u001b[0m 2ms/step - accuracy: 0.7750 - loss: 0.4581 - val_accuracy: 0.8270 - val_loss: 0.3865\n",
            "Epoch 22/35\n",
            "\u001b[1m1048/1048\u001b[0m \u001b[32m━━━━━━━━━━━━━━━━━━━━\u001b[0m\u001b[37m\u001b[0m \u001b[1m3s\u001b[0m 2ms/step - accuracy: 0.7791 - loss: 0.4501 - val_accuracy: 0.8247 - val_loss: 0.3885\n",
            "Epoch 23/35\n",
            "\u001b[1m1048/1048\u001b[0m \u001b[32m━━━━━━━━━━━━━━━━━━━━\u001b[0m\u001b[37m\u001b[0m \u001b[1m4s\u001b[0m 3ms/step - accuracy: 0.7733 - loss: 0.4534 - val_accuracy: 0.8287 - val_loss: 0.3822\n",
            "Epoch 24/35\n",
            "\u001b[1m1048/1048\u001b[0m \u001b[32m━━━━━━━━━━━━━━━━━━━━\u001b[0m\u001b[37m\u001b[0m \u001b[1m4s\u001b[0m 2ms/step - accuracy: 0.7787 - loss: 0.4482 - val_accuracy: 0.8339 - val_loss: 0.3817\n",
            "Epoch 25/35\n",
            "\u001b[1m1048/1048\u001b[0m \u001b[32m━━━━━━━━━━━━━━━━━━━━\u001b[0m\u001b[37m\u001b[0m \u001b[1m2s\u001b[0m 2ms/step - accuracy: 0.7811 - loss: 0.4469 - val_accuracy: 0.8329 - val_loss: 0.3786\n",
            "Epoch 26/35\n",
            "\u001b[1m1048/1048\u001b[0m \u001b[32m━━━━━━━━━━━━━━━━━━━━\u001b[0m\u001b[37m\u001b[0m \u001b[1m3s\u001b[0m 2ms/step - accuracy: 0.7886 - loss: 0.4376 - val_accuracy: 0.8399 - val_loss: 0.3759\n",
            "Epoch 27/35\n",
            "\u001b[1m1048/1048\u001b[0m \u001b[32m━━━━━━━━━━━━━━━━━━━━\u001b[0m\u001b[37m\u001b[0m \u001b[1m3s\u001b[0m 2ms/step - accuracy: 0.7862 - loss: 0.4377 - val_accuracy: 0.8367 - val_loss: 0.3755\n",
            "Epoch 28/35\n",
            "\u001b[1m1048/1048\u001b[0m \u001b[32m━━━━━━━━━━━━━━━━━━━━\u001b[0m\u001b[37m\u001b[0m \u001b[1m5s\u001b[0m 2ms/step - accuracy: 0.7857 - loss: 0.4365 - val_accuracy: 0.8326 - val_loss: 0.3754\n",
            "Epoch 29/35\n",
            "\u001b[1m1048/1048\u001b[0m \u001b[32m━━━━━━━━━━━━━━━━━━━━\u001b[0m\u001b[37m\u001b[0m \u001b[1m2s\u001b[0m 2ms/step - accuracy: 0.7878 - loss: 0.4371 - val_accuracy: 0.8321 - val_loss: 0.3741\n",
            "Epoch 30/35\n",
            "\u001b[1m1048/1048\u001b[0m \u001b[32m━━━━━━━━━━━━━━━━━━━━\u001b[0m\u001b[37m\u001b[0m \u001b[1m2s\u001b[0m 2ms/step - accuracy: 0.7932 - loss: 0.4309 - val_accuracy: 0.8384 - val_loss: 0.3707\n",
            "Epoch 31/35\n",
            "\u001b[1m1048/1048\u001b[0m \u001b[32m━━━━━━━━━━━━━━━━━━━━\u001b[0m\u001b[37m\u001b[0m \u001b[1m2s\u001b[0m 2ms/step - accuracy: 0.7884 - loss: 0.4318 - val_accuracy: 0.8418 - val_loss: 0.3655\n",
            "Epoch 32/35\n",
            "\u001b[1m1048/1048\u001b[0m \u001b[32m━━━━━━━━━━━━━━━━━━━━\u001b[0m\u001b[37m\u001b[0m \u001b[1m3s\u001b[0m 3ms/step - accuracy: 0.7914 - loss: 0.4311 - val_accuracy: 0.8426 - val_loss: 0.3664\n",
            "Epoch 33/35\n",
            "\u001b[1m1048/1048\u001b[0m \u001b[32m━━━━━━━━━━━━━━━━━━━━\u001b[0m\u001b[37m\u001b[0m \u001b[1m3s\u001b[0m 3ms/step - accuracy: 0.7887 - loss: 0.4295 - val_accuracy: 0.8436 - val_loss: 0.3636\n",
            "Epoch 34/35\n",
            "\u001b[1m1048/1048\u001b[0m \u001b[32m━━━━━━━━━━━━━━━━━━━━\u001b[0m\u001b[37m\u001b[0m \u001b[1m4s\u001b[0m 2ms/step - accuracy: 0.7918 - loss: 0.4298 - val_accuracy: 0.8322 - val_loss: 0.3684\n",
            "Epoch 35/35\n",
            "\u001b[1m1048/1048\u001b[0m \u001b[32m━━━━━━━━━━━━━━━━━━━━\u001b[0m\u001b[37m\u001b[0m \u001b[1m2s\u001b[0m 2ms/step - accuracy: 0.7948 - loss: 0.4268 - val_accuracy: 0.8328 - val_loss: 0.3687\n"
          ]
        },
        {
          "output_type": "display_data",
          "data": {
            "text/plain": [
              "\u001b[1mModel: \"sequential\"\u001b[0m\n"
            ],
            "text/html": [
              "<pre style=\"white-space:pre;overflow-x:auto;line-height:normal;font-family:Menlo,'DejaVu Sans Mono',consolas,'Courier New',monospace\"><span style=\"font-weight: bold\">Model: \"sequential\"</span>\n",
              "</pre>\n"
            ]
          },
          "metadata": {}
        },
        {
          "output_type": "display_data",
          "data": {
            "text/plain": [
              "┏━━━━━━━━━━━━━━━━━━━━━━━━━━━━━━━━━━━━━━┳━━━━━━━━━━━━━━━━━━━━━━━━━━━━━┳━━━━━━━━━━━━━━━━━┓\n",
              "┃\u001b[1m \u001b[0m\u001b[1mLayer (type)                        \u001b[0m\u001b[1m \u001b[0m┃\u001b[1m \u001b[0m\u001b[1mOutput Shape               \u001b[0m\u001b[1m \u001b[0m┃\u001b[1m \u001b[0m\u001b[1m        Param #\u001b[0m\u001b[1m \u001b[0m┃\n",
              "┡━━━━━━━━━━━━━━━━━━━━━━━━━━━━━━━━━━━━━━╇━━━━━━━━━━━━━━━━━━━━━━━━━━━━━╇━━━━━━━━━━━━━━━━━┩\n",
              "│ dense (\u001b[38;5;33mDense\u001b[0m)                        │ (\u001b[38;5;45mNone\u001b[0m, \u001b[38;5;34m64\u001b[0m)                  │             \u001b[38;5;34m576\u001b[0m │\n",
              "├──────────────────────────────────────┼─────────────────────────────┼─────────────────┤\n",
              "│ dropout (\u001b[38;5;33mDropout\u001b[0m)                    │ (\u001b[38;5;45mNone\u001b[0m, \u001b[38;5;34m64\u001b[0m)                  │               \u001b[38;5;34m0\u001b[0m │\n",
              "├──────────────────────────────────────┼─────────────────────────────┼─────────────────┤\n",
              "│ dense_2 (\u001b[38;5;33mDense\u001b[0m)                      │ (\u001b[38;5;45mNone\u001b[0m, \u001b[38;5;34m32\u001b[0m)                  │           \u001b[38;5;34m2,080\u001b[0m │\n",
              "├──────────────────────────────────────┼─────────────────────────────┼─────────────────┤\n",
              "│ dense_4 (\u001b[38;5;33mDense\u001b[0m)                      │ (\u001b[38;5;45mNone\u001b[0m, \u001b[38;5;34m1\u001b[0m)                   │              \u001b[38;5;34m33\u001b[0m │\n",
              "└──────────────────────────────────────┴─────────────────────────────┴─────────────────┘\n"
            ],
            "text/html": [
              "<pre style=\"white-space:pre;overflow-x:auto;line-height:normal;font-family:Menlo,'DejaVu Sans Mono',consolas,'Courier New',monospace\">┏━━━━━━━━━━━━━━━━━━━━━━━━━━━━━━━━━━━━━━┳━━━━━━━━━━━━━━━━━━━━━━━━━━━━━┳━━━━━━━━━━━━━━━━━┓\n",
              "┃<span style=\"font-weight: bold\"> Layer (type)                         </span>┃<span style=\"font-weight: bold\"> Output Shape                </span>┃<span style=\"font-weight: bold\">         Param # </span>┃\n",
              "┡━━━━━━━━━━━━━━━━━━━━━━━━━━━━━━━━━━━━━━╇━━━━━━━━━━━━━━━━━━━━━━━━━━━━━╇━━━━━━━━━━━━━━━━━┩\n",
              "│ dense (<span style=\"color: #0087ff; text-decoration-color: #0087ff\">Dense</span>)                        │ (<span style=\"color: #00d7ff; text-decoration-color: #00d7ff\">None</span>, <span style=\"color: #00af00; text-decoration-color: #00af00\">64</span>)                  │             <span style=\"color: #00af00; text-decoration-color: #00af00\">576</span> │\n",
              "├──────────────────────────────────────┼─────────────────────────────┼─────────────────┤\n",
              "│ dropout (<span style=\"color: #0087ff; text-decoration-color: #0087ff\">Dropout</span>)                    │ (<span style=\"color: #00d7ff; text-decoration-color: #00d7ff\">None</span>, <span style=\"color: #00af00; text-decoration-color: #00af00\">64</span>)                  │               <span style=\"color: #00af00; text-decoration-color: #00af00\">0</span> │\n",
              "├──────────────────────────────────────┼─────────────────────────────┼─────────────────┤\n",
              "│ dense_2 (<span style=\"color: #0087ff; text-decoration-color: #0087ff\">Dense</span>)                      │ (<span style=\"color: #00d7ff; text-decoration-color: #00d7ff\">None</span>, <span style=\"color: #00af00; text-decoration-color: #00af00\">32</span>)                  │           <span style=\"color: #00af00; text-decoration-color: #00af00\">2,080</span> │\n",
              "├──────────────────────────────────────┼─────────────────────────────┼─────────────────┤\n",
              "│ dense_4 (<span style=\"color: #0087ff; text-decoration-color: #0087ff\">Dense</span>)                      │ (<span style=\"color: #00d7ff; text-decoration-color: #00d7ff\">None</span>, <span style=\"color: #00af00; text-decoration-color: #00af00\">1</span>)                   │              <span style=\"color: #00af00; text-decoration-color: #00af00\">33</span> │\n",
              "└──────────────────────────────────────┴─────────────────────────────┴─────────────────┘\n",
              "</pre>\n"
            ]
          },
          "metadata": {}
        },
        {
          "output_type": "display_data",
          "data": {
            "text/plain": [
              "\u001b[1m Total params: \u001b[0m\u001b[38;5;34m8,069\u001b[0m (31.52 KB)\n"
            ],
            "text/html": [
              "<pre style=\"white-space:pre;overflow-x:auto;line-height:normal;font-family:Menlo,'DejaVu Sans Mono',consolas,'Courier New',monospace\"><span style=\"font-weight: bold\"> Total params: </span><span style=\"color: #00af00; text-decoration-color: #00af00\">8,069</span> (31.52 KB)\n",
              "</pre>\n"
            ]
          },
          "metadata": {}
        },
        {
          "output_type": "display_data",
          "data": {
            "text/plain": [
              "\u001b[1m Trainable params: \u001b[0m\u001b[38;5;34m2,689\u001b[0m (10.50 KB)\n"
            ],
            "text/html": [
              "<pre style=\"white-space:pre;overflow-x:auto;line-height:normal;font-family:Menlo,'DejaVu Sans Mono',consolas,'Courier New',monospace\"><span style=\"font-weight: bold\"> Trainable params: </span><span style=\"color: #00af00; text-decoration-color: #00af00\">2,689</span> (10.50 KB)\n",
              "</pre>\n"
            ]
          },
          "metadata": {}
        },
        {
          "output_type": "display_data",
          "data": {
            "text/plain": [
              "\u001b[1m Non-trainable params: \u001b[0m\u001b[38;5;34m0\u001b[0m (0.00 B)\n"
            ],
            "text/html": [
              "<pre style=\"white-space:pre;overflow-x:auto;line-height:normal;font-family:Menlo,'DejaVu Sans Mono',consolas,'Courier New',monospace\"><span style=\"font-weight: bold\"> Non-trainable params: </span><span style=\"color: #00af00; text-decoration-color: #00af00\">0</span> (0.00 B)\n",
              "</pre>\n"
            ]
          },
          "metadata": {}
        },
        {
          "output_type": "display_data",
          "data": {
            "text/plain": [
              "\u001b[1m Optimizer params: \u001b[0m\u001b[38;5;34m5,380\u001b[0m (21.02 KB)\n"
            ],
            "text/html": [
              "<pre style=\"white-space:pre;overflow-x:auto;line-height:normal;font-family:Menlo,'DejaVu Sans Mono',consolas,'Courier New',monospace\"><span style=\"font-weight: bold\"> Optimizer params: </span><span style=\"color: #00af00; text-decoration-color: #00af00\">5,380</span> (21.02 KB)\n",
              "</pre>\n"
            ]
          },
          "metadata": {}
        },
        {
          "output_type": "display_data",
          "data": {
            "text/plain": [
              "\u001b[1mModel: \"sequential_1\"\u001b[0m\n"
            ],
            "text/html": [
              "<pre style=\"white-space:pre;overflow-x:auto;line-height:normal;font-family:Menlo,'DejaVu Sans Mono',consolas,'Courier New',monospace\"><span style=\"font-weight: bold\">Model: \"sequential_1\"</span>\n",
              "</pre>\n"
            ]
          },
          "metadata": {}
        },
        {
          "output_type": "display_data",
          "data": {
            "text/plain": [
              "┏━━━━━━━━━━━━━━━━━━━━━━━━━━━━━━━━━━━━━━┳━━━━━━━━━━━━━━━━━━━━━━━━━━━━━┳━━━━━━━━━━━━━━━━━┓\n",
              "┃\u001b[1m \u001b[0m\u001b[1mLayer (type)                        \u001b[0m\u001b[1m \u001b[0m┃\u001b[1m \u001b[0m\u001b[1mOutput Shape               \u001b[0m\u001b[1m \u001b[0m┃\u001b[1m \u001b[0m\u001b[1m        Param #\u001b[0m\u001b[1m \u001b[0m┃\n",
              "┡━━━━━━━━━━━━━━━━━━━━━━━━━━━━━━━━━━━━━━╇━━━━━━━━━━━━━━━━━━━━━━━━━━━━━╇━━━━━━━━━━━━━━━━━┩\n",
              "│ dense_1 (\u001b[38;5;33mDense\u001b[0m)                      │ (\u001b[38;5;45mNone\u001b[0m, \u001b[38;5;34m64\u001b[0m)                  │             \u001b[38;5;34m576\u001b[0m │\n",
              "├──────────────────────────────────────┼─────────────────────────────┼─────────────────┤\n",
              "│ dropout_1 (\u001b[38;5;33mDropout\u001b[0m)                  │ (\u001b[38;5;45mNone\u001b[0m, \u001b[38;5;34m64\u001b[0m)                  │               \u001b[38;5;34m0\u001b[0m │\n",
              "├──────────────────────────────────────┼─────────────────────────────┼─────────────────┤\n",
              "│ dense_3 (\u001b[38;5;33mDense\u001b[0m)                      │ (\u001b[38;5;45mNone\u001b[0m, \u001b[38;5;34m32\u001b[0m)                  │           \u001b[38;5;34m2,080\u001b[0m │\n",
              "├──────────────────────────────────────┼─────────────────────────────┼─────────────────┤\n",
              "│ dense_5 (\u001b[38;5;33mDense\u001b[0m)                      │ (\u001b[38;5;45mNone\u001b[0m, \u001b[38;5;34m1\u001b[0m)                   │              \u001b[38;5;34m33\u001b[0m │\n",
              "└──────────────────────────────────────┴─────────────────────────────┴─────────────────┘\n"
            ],
            "text/html": [
              "<pre style=\"white-space:pre;overflow-x:auto;line-height:normal;font-family:Menlo,'DejaVu Sans Mono',consolas,'Courier New',monospace\">┏━━━━━━━━━━━━━━━━━━━━━━━━━━━━━━━━━━━━━━┳━━━━━━━━━━━━━━━━━━━━━━━━━━━━━┳━━━━━━━━━━━━━━━━━┓\n",
              "┃<span style=\"font-weight: bold\"> Layer (type)                         </span>┃<span style=\"font-weight: bold\"> Output Shape                </span>┃<span style=\"font-weight: bold\">         Param # </span>┃\n",
              "┡━━━━━━━━━━━━━━━━━━━━━━━━━━━━━━━━━━━━━━╇━━━━━━━━━━━━━━━━━━━━━━━━━━━━━╇━━━━━━━━━━━━━━━━━┩\n",
              "│ dense_1 (<span style=\"color: #0087ff; text-decoration-color: #0087ff\">Dense</span>)                      │ (<span style=\"color: #00d7ff; text-decoration-color: #00d7ff\">None</span>, <span style=\"color: #00af00; text-decoration-color: #00af00\">64</span>)                  │             <span style=\"color: #00af00; text-decoration-color: #00af00\">576</span> │\n",
              "├──────────────────────────────────────┼─────────────────────────────┼─────────────────┤\n",
              "│ dropout_1 (<span style=\"color: #0087ff; text-decoration-color: #0087ff\">Dropout</span>)                  │ (<span style=\"color: #00d7ff; text-decoration-color: #00d7ff\">None</span>, <span style=\"color: #00af00; text-decoration-color: #00af00\">64</span>)                  │               <span style=\"color: #00af00; text-decoration-color: #00af00\">0</span> │\n",
              "├──────────────────────────────────────┼─────────────────────────────┼─────────────────┤\n",
              "│ dense_3 (<span style=\"color: #0087ff; text-decoration-color: #0087ff\">Dense</span>)                      │ (<span style=\"color: #00d7ff; text-decoration-color: #00d7ff\">None</span>, <span style=\"color: #00af00; text-decoration-color: #00af00\">32</span>)                  │           <span style=\"color: #00af00; text-decoration-color: #00af00\">2,080</span> │\n",
              "├──────────────────────────────────────┼─────────────────────────────┼─────────────────┤\n",
              "│ dense_5 (<span style=\"color: #0087ff; text-decoration-color: #0087ff\">Dense</span>)                      │ (<span style=\"color: #00d7ff; text-decoration-color: #00d7ff\">None</span>, <span style=\"color: #00af00; text-decoration-color: #00af00\">1</span>)                   │              <span style=\"color: #00af00; text-decoration-color: #00af00\">33</span> │\n",
              "└──────────────────────────────────────┴─────────────────────────────┴─────────────────┘\n",
              "</pre>\n"
            ]
          },
          "metadata": {}
        },
        {
          "output_type": "display_data",
          "data": {
            "text/plain": [
              "\u001b[1m Total params: \u001b[0m\u001b[38;5;34m8,069\u001b[0m (31.52 KB)\n"
            ],
            "text/html": [
              "<pre style=\"white-space:pre;overflow-x:auto;line-height:normal;font-family:Menlo,'DejaVu Sans Mono',consolas,'Courier New',monospace\"><span style=\"font-weight: bold\"> Total params: </span><span style=\"color: #00af00; text-decoration-color: #00af00\">8,069</span> (31.52 KB)\n",
              "</pre>\n"
            ]
          },
          "metadata": {}
        },
        {
          "output_type": "display_data",
          "data": {
            "text/plain": [
              "\u001b[1m Trainable params: \u001b[0m\u001b[38;5;34m2,689\u001b[0m (10.50 KB)\n"
            ],
            "text/html": [
              "<pre style=\"white-space:pre;overflow-x:auto;line-height:normal;font-family:Menlo,'DejaVu Sans Mono',consolas,'Courier New',monospace\"><span style=\"font-weight: bold\"> Trainable params: </span><span style=\"color: #00af00; text-decoration-color: #00af00\">2,689</span> (10.50 KB)\n",
              "</pre>\n"
            ]
          },
          "metadata": {}
        },
        {
          "output_type": "display_data",
          "data": {
            "text/plain": [
              "\u001b[1m Non-trainable params: \u001b[0m\u001b[38;5;34m0\u001b[0m (0.00 B)\n"
            ],
            "text/html": [
              "<pre style=\"white-space:pre;overflow-x:auto;line-height:normal;font-family:Menlo,'DejaVu Sans Mono',consolas,'Courier New',monospace\"><span style=\"font-weight: bold\"> Non-trainable params: </span><span style=\"color: #00af00; text-decoration-color: #00af00\">0</span> (0.00 B)\n",
              "</pre>\n"
            ]
          },
          "metadata": {}
        },
        {
          "output_type": "display_data",
          "data": {
            "text/plain": [
              "\u001b[1m Optimizer params: \u001b[0m\u001b[38;5;34m5,380\u001b[0m (21.02 KB)\n"
            ],
            "text/html": [
              "<pre style=\"white-space:pre;overflow-x:auto;line-height:normal;font-family:Menlo,'DejaVu Sans Mono',consolas,'Courier New',monospace\"><span style=\"font-weight: bold\"> Optimizer params: </span><span style=\"color: #00af00; text-decoration-color: #00af00\">5,380</span> (21.02 KB)\n",
              "</pre>\n"
            ]
          },
          "metadata": {}
        }
      ]
    },
    {
      "cell_type": "markdown",
      "metadata": {
        "id": "IrdwJiEdkzP4"
      },
      "source": [
        "#Explain the structure of the network: how many layers? what layers? how manny weights/coefficients/parameters are there in your network? (2-3 sentences)"
      ]
    },
    {
      "cell_type": "markdown",
      "metadata": {
        "id": "bKUQFV4blHX1"
      },
      "source": [
        "#Your answer here:\n",
        "\n"
      ]
    },
    {
      "cell_type": "markdown",
      "source": [
        "WORD תשובה בקובץ"
      ],
      "metadata": {
        "id": "5vnJh9QKbqmK"
      }
    },
    {
      "cell_type": "markdown",
      "metadata": {
        "id": "WXR9AHo9Y3gJ"
      },
      "source": [
        "#9. a. Predict the y variable on both the train set and the test set (for both imputed datasets and for both algorithms - 16 predictions in total):\n",
        "2 imputed datasets * 4 models * (train+test)\n",
        "\n",
        "and print the accuracy of each prediction.\n",
        "\n"
      ]
    },
    {
      "cell_type": "code",
      "execution_count": null,
      "metadata": {
        "id": "OGXWpYFLZyHh",
        "colab": {
          "base_uri": "https://localhost:8080/"
        },
        "outputId": "b2fdb2bb-ec72-4a38-c082-161b13c5d0c7"
      },
      "outputs": [
        {
          "output_type": "stream",
          "name": "stdout",
          "text": [
            "\n",
            "Classification Report for Random Forest on Mean-Imputed Data (Training Set):\n",
            "              precision    recall  f1-score   support\n",
            "\n",
            "           0       0.88      0.97      0.93     19488\n",
            "           1       0.98      0.89      0.93     23740\n",
            "\n",
            "    accuracy                           0.93     43228\n",
            "   macro avg       0.93      0.93      0.93     43228\n",
            "weighted avg       0.93      0.93      0.93     43228\n",
            "\n",
            "\n",
            "Classification Report for Random Forest on Mean-Imputed Data (Test Set):\n",
            "              precision    recall  f1-score   support\n",
            "\n",
            "           0       0.87      0.96      0.91      4872\n",
            "           1       0.97      0.89      0.92      5935\n",
            "\n",
            "    accuracy                           0.92     10807\n",
            "   macro avg       0.92      0.92      0.92     10807\n",
            "weighted avg       0.92      0.92      0.92     10807\n",
            "\n",
            "\n",
            "Classification Report for Random Forest on KNN-Imputed Data (Training Set):\n",
            "              precision    recall  f1-score   support\n",
            "\n",
            "           0       0.88      0.96      0.92     19488\n",
            "           1       0.97      0.89      0.93     23740\n",
            "\n",
            "    accuracy                           0.92     43228\n",
            "   macro avg       0.92      0.93      0.92     43228\n",
            "weighted avg       0.93      0.92      0.92     43228\n",
            "\n",
            "\n",
            "Classification Report for Random Forest on KNN-Imputed Data (Test Set):\n",
            "              precision    recall  f1-score   support\n",
            "\n",
            "           0       0.87      0.95      0.91      4872\n",
            "           1       0.96      0.88      0.92      5935\n",
            "\n",
            "    accuracy                           0.91     10807\n",
            "   macro avg       0.91      0.92      0.91     10807\n",
            "weighted avg       0.92      0.91      0.91     10807\n",
            "\n",
            "\n",
            "Classification Report for CatBoost on Mean-Imputed Data (Training Set):\n",
            "              precision    recall  f1-score   support\n",
            "\n",
            "           0       0.97      0.98      0.98     19488\n",
            "           1       0.99      0.98      0.98     23740\n",
            "\n",
            "    accuracy                           0.98     43228\n",
            "   macro avg       0.98      0.98      0.98     43228\n",
            "weighted avg       0.98      0.98      0.98     43228\n",
            "\n",
            "\n",
            "Classification Report for CatBoost on Mean-Imputed Data (Test Set):\n",
            "              precision    recall  f1-score   support\n",
            "\n",
            "           0       0.96      0.97      0.97      4872\n",
            "           1       0.98      0.97      0.97      5935\n",
            "\n",
            "    accuracy                           0.97     10807\n",
            "   macro avg       0.97      0.97      0.97     10807\n",
            "weighted avg       0.97      0.97      0.97     10807\n",
            "\n",
            "\n",
            "Classification Report for CatBoost on KNN-Imputed Data (Training Set):\n",
            "              precision    recall  f1-score   support\n",
            "\n",
            "           0       0.95      0.96      0.95     19488\n",
            "           1       0.97      0.96      0.96     23740\n",
            "\n",
            "    accuracy                           0.96     43228\n",
            "   macro avg       0.96      0.96      0.96     43228\n",
            "weighted avg       0.96      0.96      0.96     43228\n",
            "\n",
            "\n",
            "Classification Report for CatBoost on KNN-Imputed Data (Test Set):\n",
            "              precision    recall  f1-score   support\n",
            "\n",
            "           0       0.93      0.95      0.94      4872\n",
            "           1       0.96      0.95      0.95      5935\n",
            "\n",
            "    accuracy                           0.95     10807\n",
            "   macro avg       0.95      0.95      0.95     10807\n",
            "weighted avg       0.95      0.95      0.95     10807\n",
            "\n",
            "\n",
            "Classification Report for Gradient Boosting on Mean-Imputed Data (Training Set):\n",
            "              precision    recall  f1-score   support\n",
            "\n",
            "           0       0.87      0.93      0.90     19488\n",
            "           1       0.94      0.89      0.91     23740\n",
            "\n",
            "    accuracy                           0.91     43228\n",
            "   macro avg       0.91      0.91      0.91     43228\n",
            "weighted avg       0.91      0.91      0.91     43228\n",
            "\n",
            "\n",
            "Classification Report for Gradient Boosting on Mean-Imputed Data (Test Set):\n",
            "              precision    recall  f1-score   support\n",
            "\n",
            "           0       0.86      0.92      0.89      4872\n",
            "           1       0.93      0.88      0.91      5935\n",
            "\n",
            "    accuracy                           0.90     10807\n",
            "   macro avg       0.90      0.90      0.90     10807\n",
            "weighted avg       0.90      0.90      0.90     10807\n",
            "\n",
            "\n",
            "Classification Report for Gradient Boosting on KNN-Imputed Data (Training Set):\n",
            "              precision    recall  f1-score   support\n",
            "\n",
            "           0       0.88      0.94      0.91     19488\n",
            "           1       0.95      0.89      0.92     23740\n",
            "\n",
            "    accuracy                           0.91     43228\n",
            "   macro avg       0.91      0.91      0.91     43228\n",
            "weighted avg       0.91      0.91      0.91     43228\n",
            "\n",
            "\n",
            "Classification Report for Gradient Boosting on KNN-Imputed Data (Test Set):\n",
            "              precision    recall  f1-score   support\n",
            "\n",
            "           0       0.87      0.93      0.90      4872\n",
            "           1       0.94      0.89      0.91      5935\n",
            "\n",
            "    accuracy                           0.91     10807\n",
            "   macro avg       0.90      0.91      0.91     10807\n",
            "weighted avg       0.91      0.91      0.91     10807\n",
            "\n",
            "\u001b[1m1351/1351\u001b[0m \u001b[32m━━━━━━━━━━━━━━━━━━━━\u001b[0m\u001b[37m\u001b[0m \u001b[1m2s\u001b[0m 1ms/step\n",
            "\u001b[1m338/338\u001b[0m \u001b[32m━━━━━━━━━━━━━━━━━━━━\u001b[0m\u001b[37m\u001b[0m \u001b[1m0s\u001b[0m 1ms/step\n",
            "\n",
            "Classification Report for Neural Network on Mean-Imputed Data (Training Set):\n",
            "              precision    recall  f1-score   support\n",
            "\n",
            "           0       0.76      0.86      0.81     19488\n",
            "           1       0.87      0.78      0.82     23740\n",
            "\n",
            "    accuracy                           0.82     43228\n",
            "   macro avg       0.82      0.82      0.82     43228\n",
            "weighted avg       0.82      0.82      0.82     43228\n",
            "\n",
            "\n",
            "Classification Report for Neural Network on Mean-Imputed Data (Test Set):\n",
            "              precision    recall  f1-score   support\n",
            "\n",
            "           0       0.76      0.86      0.81      4872\n",
            "           1       0.87      0.78      0.82      5935\n",
            "\n",
            "    accuracy                           0.82     10807\n",
            "   macro avg       0.82      0.82      0.82     10807\n",
            "weighted avg       0.82      0.82      0.82     10807\n",
            "\n",
            "\u001b[1m1351/1351\u001b[0m \u001b[32m━━━━━━━━━━━━━━━━━━━━\u001b[0m\u001b[37m\u001b[0m \u001b[1m2s\u001b[0m 1ms/step\n",
            "\u001b[1m338/338\u001b[0m \u001b[32m━━━━━━━━━━━━━━━━━━━━\u001b[0m\u001b[37m\u001b[0m \u001b[1m1s\u001b[0m 2ms/step\n",
            "\n",
            "Classification Report for Neural Network on KNN-Imputed Data (Training Set):\n",
            "              precision    recall  f1-score   support\n",
            "\n",
            "           0       0.82      0.82      0.82     19488\n",
            "           1       0.85      0.85      0.85     23740\n",
            "\n",
            "    accuracy                           0.83     43228\n",
            "   macro avg       0.83      0.83      0.83     43228\n",
            "weighted avg       0.83      0.83      0.83     43228\n",
            "\n",
            "\n",
            "Classification Report for Neural Network on KNN-Imputed Data (Test Set):\n",
            "              precision    recall  f1-score   support\n",
            "\n",
            "           0       0.81      0.81      0.81      4872\n",
            "           1       0.85      0.85      0.85      5935\n",
            "\n",
            "    accuracy                           0.83     10807\n",
            "   macro avg       0.83      0.83      0.83     10807\n",
            "weighted avg       0.83      0.83      0.83     10807\n",
            "\n"
          ]
        }
      ],
      "source": [
        "#your code here:\n",
        "#chatGPT  was used to create the function to improve code readability and prevent code duplication\n",
        "#Function to generate classification reports for each model.\n",
        "def generate_reports(model, X_train, y_train, X_test, y_test, model_name, dataset_name):\n",
        "\n",
        "#Predicting on the training set.\n",
        "    y_train_pred = model.predict(X_train)\n",
        "    print(f\"\\nClassification Report for {model_name} on {dataset_name} (Training Set):\")\n",
        "    print(classification_report(y_train, y_train_pred))\n",
        "\n",
        "#Predicting on the test set.\n",
        "    y_test_pred = model.predict(X_test)\n",
        "    print(f\"\\nClassification Report for {model_name} on {dataset_name} (Test Set):\")\n",
        "    print(classification_report(y_test, y_test_pred))\n",
        "\n",
        "#Example usage of the function with specific models and datasets.\n",
        "generate_reports(grid_search_rf.best_estimator_,X_train_mean_scaled_df, y_train_mean,X_test_mean_scaled_norm_df, y_test_mean, \"Random Forest\", \"Mean-Imputed Data\")\n",
        "generate_reports(grid_search_rf.best_estimator_, X_train_knn_scaled_df, y_train_KNN, X_test_KNN_scaled_norm_df, y_test_KNN, \"Random Forest\", \"KNN-Imputed Data\")\n",
        "generate_reports(cat_grid_search.best_estimator_, X_train_mean_scaled_df, y_train_mean, X_test_mean_scaled_norm_df, y_test_mean, \"CatBoost\", \"Mean-Imputed Data\")\n",
        "generate_reports(cat_grid_search.best_estimator_, X_train_knn_scaled_df, y_train_KNN, X_test_KNN_scaled_norm_df, y_test_KNN, \"CatBoost\", \"KNN-Imputed Data\")\n",
        "generate_reports(grid_search_gb_mean.best_estimator_, X_train_mean_scaled_df, y_train_mean, X_test_mean_scaled_norm_df, y_test_mean, \"Gradient Boosting\", \"Mean-Imputed Data\")\n",
        "generate_reports(grid_search_gb_knn.best_estimator_, X_train_knn_scaled_df, y_train_KNN, X_test_KNN_scaled_norm_df, y_test_KNN, \"Gradient Boosting\", \"KNN-Imputed Data\")\n",
        "\n",
        "#Prediction on the Neural network .We use chatGPT to convert each of the categories:\n",
        "#Prediction and report generation for Neural Network models.\n",
        "#Neural network predictions on mean-imputed data.\n",
        "y_train_mean_nn_pred = (model_mean.predict(X_train_mean_scaled_df) > 0.5).astype(\"int32\")\n",
        "y_test_mean_nn_pred = (model_mean.predict(X_test_mean_scaled_norm_df) > 0.5).astype(\"int32\")\n",
        "print(\"\\nClassification Report for Neural Network on Mean-Imputed Data (Training Set):\")\n",
        "print(classification_report(y_train_mean, y_train_mean_nn_pred))\n",
        "print(\"\\nClassification Report for Neural Network on Mean-Imputed Data (Test Set):\")\n",
        "print(classification_report(y_test_mean, y_test_mean_nn_pred))\n",
        "\n",
        "#Neural network predictions on KNN-imputed data.\n",
        "y_train_knn_nn_pred = (model_knn.predict(X_train_knn_scaled_df) > 0.5).astype(\"int32\")\n",
        "y_test_knn_nn_pred = (model_knn.predict(X_test_KNN_scaled_norm_df) > 0.5).astype(\"int32\")\n",
        "print(\"\\nClassification Report for Neural Network on KNN-Imputed Data (Training Set):\")\n",
        "print(classification_report(y_train_KNN, y_train_knn_nn_pred))\n",
        "print(\"\\nClassification Report for Neural Network on KNN-Imputed Data (Test Set):\")\n",
        "print(classification_report(y_test_KNN, y_test_knn_nn_pred))"
      ]
    },
    {
      "cell_type": "markdown",
      "metadata": {
        "id": "0q70fd0FZzqS"
      },
      "source": [
        "#b. Based on the accuracies of the predictions, verbally explain which model resulted with the best outcome with consideration to over-fitting, under-fitting and proper-fitting."
      ]
    },
    {
      "cell_type": "markdown",
      "metadata": {
        "id": "N8EIHUuGa5Cu"
      },
      "source": [
        "#Your answer here:\n",
        "WORD תשובה בקובץ\n",
        "\n"
      ]
    },
    {
      "cell_type": "markdown",
      "metadata": {
        "id": "QjsR7CqOaRnC"
      },
      "source": [
        "#Print the classification_report of the test set using the best model and verbally explain another quality measure of your choice."
      ]
    },
    {
      "cell_type": "code",
      "execution_count": null,
      "metadata": {
        "id": "lqPM-0PVa1Ab",
        "colab": {
          "base_uri": "https://localhost:8080/"
        },
        "outputId": "4dee3534-63e6-4962-cc7f-371d93132d5a"
      },
      "outputs": [
        {
          "output_type": "stream",
          "name": "stdout",
          "text": [
            "Classification Report (Test Set) for Best Model:\n",
            "              precision    recall  f1-score   support\n",
            "\n",
            "           0       0.87      0.96      0.91      4872\n",
            "           1       0.97      0.89      0.92      5935\n",
            "\n",
            "    accuracy                           0.92     10807\n",
            "   macro avg       0.92      0.92      0.92     10807\n",
            "weighted avg       0.92      0.92      0.92     10807\n",
            "\n"
          ]
        }
      ],
      "source": [
        "#your code here:\n",
        "best_model = grid_search_rf.best_estimator_\n",
        "\n",
        "#Predict on the test set.\n",
        "y_pred_test = best_model.predict(X_test_mean_scaled_norm_df)\n",
        "\n",
        "#Print classification report for the test set.\n",
        "print(\"Classification Report (Test Set) for Best Model:\")\n",
        "print(classification_report(y_test_mean, y_pred_test))\n"
      ]
    },
    {
      "cell_type": "markdown",
      "metadata": {
        "id": "oyUVqCG6a5mq"
      },
      "source": [
        "#Your answer here:\n",
        "WORD תשובה בקובץ\n",
        "\n",
        "\n"
      ]
    },
    {
      "cell_type": "markdown",
      "metadata": {
        "id": "sjlVS3N9mITn"
      },
      "source": [
        "#Part B:"
      ]
    },
    {
      "cell_type": "markdown",
      "metadata": {
        "id": "XkXSaeKKmK-D"
      },
      "source": [
        "#10. Data preprocessing:"
      ]
    },
    {
      "cell_type": "markdown",
      "metadata": {
        "id": "eTJaRDNTmXu6"
      },
      "source": [
        "#Upload the second table (for regression analysis):"
      ]
    },
    {
      "cell_type": "code",
      "execution_count": null,
      "metadata": {
        "id": "wxnogzcqmVBY"
      },
      "outputs": [],
      "source": [
        "#your code here:\n",
        "df_ApartmentPrices= pd.read_csv(\"Apartment Prices.csv\")\n",
        "df_ApartmentPricesCo = df_ApartmentPrices.copy()"
      ]
    },
    {
      "cell_type": "markdown",
      "metadata": {
        "id": "Z6cVe6RjmVBZ"
      },
      "source": [
        "#Read the file into a pandas data frame:\n",
        "Split your data to:\n",
        "\n",
        "a. X: the feature matrix\n",
        "\n",
        "b. y: the label vector"
      ]
    },
    {
      "cell_type": "code",
      "execution_count": null,
      "metadata": {
        "id": "_Yt0dPZJmVBa"
      },
      "outputs": [],
      "source": [
        "#your code here:\n",
        "x_aprt=df_ApartmentPricesCo.drop('PRICE (GEL)',axis=1)\n",
        "y_aprt=df_ApartmentPricesCo['PRICE (GEL)']"
      ]
    },
    {
      "cell_type": "markdown",
      "metadata": {
        "id": "e5atIA5pm6Z_"
      },
      "source": [
        "#10.A. Check for missing values:"
      ]
    },
    {
      "cell_type": "code",
      "execution_count": null,
      "metadata": {
        "id": "hd-y5pz7m6aB",
        "colab": {
          "base_uri": "https://localhost:8080/"
        },
        "outputId": "a2f9b2df-e2ab-45fc-d37e-0bdc62daf5c6"
      },
      "outputs": [
        {
          "output_type": "stream",
          "name": "stdout",
          "text": [
            "Missing values before filling:\n",
            "CityPart                   0\n",
            "Area                       0\n",
            "Rooms                      0\n",
            "Bedrooms                 235\n",
            "Floor                      1\n",
            "MaxFloor                   1\n",
            "LastFloor                  0\n",
            "Status                     4\n",
            "Condition                503\n",
            "Electrical Points        596\n",
            "Heating                 2098\n",
            "Natural Gas                4\n",
            "Bed                        0\n",
            "Stove (Gas/Electric)       0\n",
            "Table                      0\n",
            "Refrigerator               0\n",
            "Chairs                     0\n",
            "Oven                       0\n",
            "Air Conditioner            0\n",
            "Washing Machine            0\n",
            "Sofa                       0\n",
            "Dishwasher                 0\n",
            "PRICE (GEL)                0\n",
            "dtype: int64\n"
          ]
        }
      ],
      "source": [
        "#your code here:\n",
        "print(\"Missing values before filling:\")\n",
        "print(df_ApartmentPricesCo.isnull().sum())"
      ]
    },
    {
      "cell_type": "markdown",
      "metadata": {
        "id": "RXy2Hq7dm6aB"
      },
      "source": [
        "#10.B. Impute the missing values using two different methods and assign the imputed output datasets into variables:"
      ]
    },
    {
      "cell_type": "code",
      "execution_count": null,
      "metadata": {
        "id": "c-brL9oXm6aC",
        "colab": {
          "base_uri": "https://localhost:8080/"
        },
        "outputId": "1ab12daa-fd5d-48cc-a369-26d13431d51f"
      },
      "outputs": [
        {
          "output_type": "stream",
          "name": "stdout",
          "text": [
            "CityPart                0\n",
            "Area                    0\n",
            "Rooms                   0\n",
            "Bedrooms                0\n",
            "Floor                   0\n",
            "MaxFloor                0\n",
            "LastFloor               0\n",
            "Status                  0\n",
            "Condition               0\n",
            "Electrical Points       0\n",
            "Heating                 0\n",
            "Natural Gas             0\n",
            "Bed                     0\n",
            "Stove (Gas/Electric)    0\n",
            "Table                   0\n",
            "Refrigerator            0\n",
            "Chairs                  0\n",
            "Oven                    0\n",
            "Air Conditioner         0\n",
            "Washing Machine         0\n",
            "Sofa                    0\n",
            "Dishwasher              0\n",
            "PRICE (GEL)             0\n",
            "dtype: int64\n"
          ]
        },
        {
          "output_type": "stream",
          "name": "stderr",
          "text": [
            "<ipython-input-21-acab979860e8>:13: FutureWarning: Series.fillna with 'method' is deprecated and will raise in a future version. Use obj.ffill() or obj.bfill() instead.\n",
            "  df_ApartmentPricesCo[col] = df_ApartmentPricesCo[col].fillna(method='ffill')\n"
          ]
        }
      ],
      "source": [
        "#your code here:\n",
        "#Identify columns with missing values.\n",
        "missing_cols = df_ApartmentPricesCo.columns[df_ApartmentPricesCo.isnull().any()].tolist()\n",
        "\n",
        "#Handling missing values.\n",
        "for col in missing_cols:\n",
        "#Check if the column is numeric.\n",
        "    if df_ApartmentPricesCo[col].dtype in ['float64', 'int64']:\n",
        "#Fill numeric columns with the mean value.\n",
        "        df_ApartmentPricesCo[col] = df_ApartmentPricesCo[col].fillna(df_ApartmentPricesCo[col].mean())\n",
        "    else:\n",
        "#Fill non-numeric columns with the last non-null value.\n",
        "        df_ApartmentPricesCo[col] = df_ApartmentPricesCo[col].fillna(method='ffill')\n",
        "\n",
        "#Check the number of missing values after filling.\n",
        "missing_values = df_ApartmentPricesCo.isnull().sum()\n",
        "print(missing_values)"
      ]
    },
    {
      "cell_type": "markdown",
      "metadata": {
        "id": "pl6vefQem6aC"
      },
      "source": [
        "#10.C. Convert categorical features to dummy variables if number of categories is lower than 5, otherwise remove from data.\n"
      ]
    },
    {
      "cell_type": "code",
      "execution_count": null,
      "metadata": {
        "id": "BTrcdLfQm6aD",
        "colab": {
          "base_uri": "https://localhost:8080/"
        },
        "outputId": "6c63e5fb-3cdf-4ab9-c3de-78f21292c2f1"
      },
      "outputs": [
        {
          "output_type": "stream",
          "name": "stdout",
          "text": [
            "                Area        Rooms     Bedrooms        Floor     MaxFloor  \\\n",
            "count    7258.000000  7258.000000  7023.000000  7257.000000  7257.000000   \n",
            "mean      116.794622     2.886746     1.805639     6.974921    11.914152   \n",
            "std      1875.877409     1.052626     0.829334     5.027288     6.302284   \n",
            "min        14.500000     1.000000     1.000000     1.000000     1.000000   \n",
            "25%        55.500000     2.000000     1.000000     3.000000     8.000000   \n",
            "50%        72.000000     3.000000     2.000000     6.000000    11.000000   \n",
            "75%        98.000000     3.000000     2.000000    10.000000    15.000000   \n",
            "max    120240.000000    10.000000    10.000000    36.000000    80.000000   \n",
            "\n",
            "         LastFloor  Electrical Points  Natural Gas          Bed  \\\n",
            "count  7258.000000        6662.000000  7254.000000  7258.000000   \n",
            "mean      0.151832           1.230561     0.726496     0.305594   \n",
            "std       0.358883           0.484849     0.445788     0.460690   \n",
            "min       0.000000           1.000000     0.000000     0.000000   \n",
            "25%       0.000000           1.000000     0.000000     0.000000   \n",
            "50%       0.000000           1.000000     1.000000     0.000000   \n",
            "75%       0.000000           1.000000     1.000000     1.000000   \n",
            "max       1.000000           3.000000     1.000000     1.000000   \n",
            "\n",
            "       Stove (Gas/Electric)        Table  Refrigerator       Chairs  \\\n",
            "count           7258.000000  7258.000000   7258.000000  7258.000000   \n",
            "mean               0.323230     0.307936      0.318958     0.274180   \n",
            "std                0.467742     0.461672      0.466105     0.446131   \n",
            "min                0.000000     0.000000      0.000000     0.000000   \n",
            "25%                0.000000     0.000000      0.000000     0.000000   \n",
            "50%                0.000000     0.000000      0.000000     0.000000   \n",
            "75%                1.000000     1.000000      1.000000     1.000000   \n",
            "max                1.000000     1.000000      1.000000     1.000000   \n",
            "\n",
            "              Oven  Air Conditioner  Washing Machine         Sofa   Dishwasher  \n",
            "count  7258.000000      7258.000000      7258.000000  7258.000000  7258.000000  \n",
            "mean      0.308074         0.300496         0.104023     0.314412     0.316203  \n",
            "std       0.461729         0.458505         0.305312     0.464313     0.465025  \n",
            "min       0.000000         0.000000         0.000000     0.000000     0.000000  \n",
            "25%       0.000000         0.000000         0.000000     0.000000     0.000000  \n",
            "50%       0.000000         0.000000         0.000000     0.000000     0.000000  \n",
            "75%       1.000000         1.000000         0.000000     1.000000     1.000000  \n",
            "max       1.000000         1.000000         1.000000     1.000000     1.000000  \n"
          ]
        }
      ],
      "source": [
        "#your code here:\n",
        "for col in x_aprt.select_dtypes(include=['object']).columns:\n",
        "\n",
        "#Check if the number of unique values in the column is greater than 4.\n",
        "    if x_aprt[col].nunique() > 4:\n",
        "       x_aprt.drop(col, axis=1, inplace=True)\n",
        "    else:\n",
        "#Drop the column if it has more than 4 unique values.\n",
        "       x_aprt = pd.get_dummies(x_aprt, columns=[col], drop_first=True)\n",
        "\n",
        "#Check and handle unrealistic values in the dataset.\n",
        "print(x_aprt.describe())\n",
        "for col in x_aprt.select_dtypes(include=['number']).columns:\n",
        "\n",
        "#Define lower and upper bounds based on the 1st and 99th percentiles.\n",
        "    lower_bound = x_aprt[col].quantile(0.01)\n",
        "    upper_bound = x_aprt[col].quantile(0.99)\n",
        "\n",
        "#Replace values outside the bounds with NaN.\n",
        "    x_aprt[col] = np.where((x_aprt[col] < lower_bound) | (x_aprt[col] > upper_bound), np.nan, x_aprt[col])\n",
        "\n",
        "#Fill in missing values created from replacing unrealistic values with the mean of each column.\n",
        "x_aprt.fillna(x_aprt.mean(), inplace=True)"
      ]
    },
    {
      "cell_type": "markdown",
      "metadata": {
        "id": "ItZzsxOGm6aD"
      },
      "source": [
        "#10.D. Train test split:"
      ]
    },
    {
      "cell_type": "code",
      "execution_count": null,
      "metadata": {
        "id": "V4n5XisBm6aE"
      },
      "outputs": [],
      "source": [
        "#your code here:\n",
        "X_train_aprt, X_test_aprt, y_train_aprt, y_test_aprt = train_test_split(x_aprt,y_aprt, test_size=0.2, random_state=42)"
      ]
    },
    {
      "cell_type": "markdown",
      "metadata": {
        "id": "VWbyIGVvm6aE"
      },
      "source": [
        "#10.D. standardize or normalize the data\n",
        "\n",
        "  "
      ]
    },
    {
      "cell_type": "code",
      "execution_count": null,
      "metadata": {
        "id": "RWrtiYf9m6aE",
        "colab": {
          "base_uri": "https://localhost:8080/"
        },
        "outputId": "6fbc1596-dfbe-4f09-8a26-c6f6dc4d47c2"
      },
      "outputs": [
        {
          "output_type": "stream",
          "name": "stdout",
          "text": [
            "after the normalization: /n\n",
            "          Area     Rooms  Bedrooms     Floor  MaxFloor  LastFloor  \\\n",
            "0     0.223730  0.369126  1.000000  0.227273  0.133333        1.0   \n",
            "1     0.056769  0.200000  0.000000  0.636364  0.933333        0.0   \n",
            "2     0.279476  0.400000  0.333333  0.263628  0.933333        0.0   \n",
            "3     0.279476  0.400000  0.333333  0.263628  0.933333        0.0   \n",
            "4     0.423581  0.600000  0.666667  0.772727  0.933333        0.0   \n",
            "...        ...       ...       ...       ...       ...        ...   \n",
            "7253  0.257642  0.600000  0.666667  0.227273  0.266667        0.0   \n",
            "7254  0.213974  0.400000  0.333333  0.272727  0.200000        0.0   \n",
            "7255  0.969432  1.000000  0.666667  0.272727  0.200000        0.0   \n",
            "7256  0.196507  0.200000  0.000000  0.136364  0.233333        0.0   \n",
            "7257  0.593886  0.800000  0.666667  0.500000  0.366667        0.0   \n",
            "\n",
            "      Electrical Points  Natural Gas  Bed  Stove (Gas/Electric)  Table  \\\n",
            "0              1.000000     1.000000  0.0                   0.0    1.0   \n",
            "1              0.000000     0.000000  0.0                   0.0    0.0   \n",
            "2              0.000000     0.000000  0.0                   0.0    0.0   \n",
            "3              0.000000     0.000000  0.0                   0.0    0.0   \n",
            "4              0.000000     0.000000  0.0                   0.0    0.0   \n",
            "...                 ...          ...  ...                   ...    ...   \n",
            "7253           0.500000     0.000000  0.0                   0.0    0.0   \n",
            "7254           0.115281     0.726496  0.0                   0.0    0.0   \n",
            "7255           0.115281     0.726496  0.0                   0.0    0.0   \n",
            "7256           0.115281     0.726496  0.0                   0.0    0.0   \n",
            "7257           0.115281     0.726496  0.0                   0.0    0.0   \n",
            "\n",
            "      Refrigerator  Chairs  Oven  Air Conditioner  Washing Machine  Sofa  \\\n",
            "0              0.0     0.0   0.0              0.0              0.0   0.0   \n",
            "1              0.0     0.0   0.0              0.0              0.0   0.0   \n",
            "2              0.0     0.0   0.0              0.0              0.0   0.0   \n",
            "3              0.0     0.0   0.0              0.0              0.0   0.0   \n",
            "4              0.0     0.0   0.0              0.0              0.0   0.0   \n",
            "...            ...     ...   ...              ...              ...   ...   \n",
            "7253           0.0     0.0   0.0              0.0              0.0   0.0   \n",
            "7254           0.0     0.0   0.0              0.0              0.0   0.0   \n",
            "7255           0.0     0.0   0.0              0.0              0.0   0.0   \n",
            "7256           0.0     0.0   0.0              0.0              0.0   0.0   \n",
            "7257           0.0     0.0   0.0              0.0              0.0   0.0   \n",
            "\n",
            "      Dishwasher  Status_Old Constructed  Status_Under Construction  \n",
            "0            0.0                     0.0                        0.0  \n",
            "1            0.0                     0.0                        1.0  \n",
            "2            0.0                     0.0                        1.0  \n",
            "3            0.0                     0.0                        1.0  \n",
            "4            0.0                     0.0                        1.0  \n",
            "...          ...                     ...                        ...  \n",
            "7253         0.0                     0.0                        1.0  \n",
            "7254         0.0                     0.0                        0.0  \n",
            "7255         0.0                     0.0                        0.0  \n",
            "7256         0.0                     0.0                        0.0  \n",
            "7257         0.0                     0.0                        0.0  \n",
            "\n",
            "[7258 rows x 20 columns]\n",
            "0       4619070\n",
            "1        149441\n",
            "2        234757\n",
            "3        234757\n",
            "4        347789\n",
            "         ...   \n",
            "7253     346252\n",
            "7254     271570\n",
            "7255    1072702\n",
            "7256     257992\n",
            "7257     638190\n",
            "Name: PRICE (GEL), Length: 7258, dtype: int64\n"
          ]
        }
      ],
      "source": [
        "#your code here:\n",
        "mms = MinMaxScaler()\n",
        "x_aprt_norm= mms.fit_transform(x_aprt)\n",
        "x_aprt_norm = pd.DataFrame(x_aprt_norm, columns=x_aprt.columns)\n",
        "print(\"after the normalization: /n\")\n",
        "print(x_aprt_norm)\n",
        "print (y_aprt)"
      ]
    },
    {
      "cell_type": "markdown",
      "metadata": {
        "id": "Vx4FjmJgnP92"
      },
      "source": [
        "#11. Train a linear regression model:"
      ]
    },
    {
      "cell_type": "code",
      "execution_count": null,
      "metadata": {
        "id": "Jmihk-OGoAJk",
        "colab": {
          "base_uri": "https://localhost:8080/",
          "height": 80
        },
        "outputId": "3a00cb7f-b808-4ec5-c14c-46a9aeee2968"
      },
      "outputs": [
        {
          "output_type": "execute_result",
          "data": {
            "text/plain": [
              "LinearRegression()"
            ],
            "text/html": [
              "<style>#sk-container-id-1 {\n",
              "  /* Definition of color scheme common for light and dark mode */\n",
              "  --sklearn-color-text: black;\n",
              "  --sklearn-color-line: gray;\n",
              "  /* Definition of color scheme for unfitted estimators */\n",
              "  --sklearn-color-unfitted-level-0: #fff5e6;\n",
              "  --sklearn-color-unfitted-level-1: #f6e4d2;\n",
              "  --sklearn-color-unfitted-level-2: #ffe0b3;\n",
              "  --sklearn-color-unfitted-level-3: chocolate;\n",
              "  /* Definition of color scheme for fitted estimators */\n",
              "  --sklearn-color-fitted-level-0: #f0f8ff;\n",
              "  --sklearn-color-fitted-level-1: #d4ebff;\n",
              "  --sklearn-color-fitted-level-2: #b3dbfd;\n",
              "  --sklearn-color-fitted-level-3: cornflowerblue;\n",
              "\n",
              "  /* Specific color for light theme */\n",
              "  --sklearn-color-text-on-default-background: var(--sg-text-color, var(--theme-code-foreground, var(--jp-content-font-color1, black)));\n",
              "  --sklearn-color-background: var(--sg-background-color, var(--theme-background, var(--jp-layout-color0, white)));\n",
              "  --sklearn-color-border-box: var(--sg-text-color, var(--theme-code-foreground, var(--jp-content-font-color1, black)));\n",
              "  --sklearn-color-icon: #696969;\n",
              "\n",
              "  @media (prefers-color-scheme: dark) {\n",
              "    /* Redefinition of color scheme for dark theme */\n",
              "    --sklearn-color-text-on-default-background: var(--sg-text-color, var(--theme-code-foreground, var(--jp-content-font-color1, white)));\n",
              "    --sklearn-color-background: var(--sg-background-color, var(--theme-background, var(--jp-layout-color0, #111)));\n",
              "    --sklearn-color-border-box: var(--sg-text-color, var(--theme-code-foreground, var(--jp-content-font-color1, white)));\n",
              "    --sklearn-color-icon: #878787;\n",
              "  }\n",
              "}\n",
              "\n",
              "#sk-container-id-1 {\n",
              "  color: var(--sklearn-color-text);\n",
              "}\n",
              "\n",
              "#sk-container-id-1 pre {\n",
              "  padding: 0;\n",
              "}\n",
              "\n",
              "#sk-container-id-1 input.sk-hidden--visually {\n",
              "  border: 0;\n",
              "  clip: rect(1px 1px 1px 1px);\n",
              "  clip: rect(1px, 1px, 1px, 1px);\n",
              "  height: 1px;\n",
              "  margin: -1px;\n",
              "  overflow: hidden;\n",
              "  padding: 0;\n",
              "  position: absolute;\n",
              "  width: 1px;\n",
              "}\n",
              "\n",
              "#sk-container-id-1 div.sk-dashed-wrapped {\n",
              "  border: 1px dashed var(--sklearn-color-line);\n",
              "  margin: 0 0.4em 0.5em 0.4em;\n",
              "  box-sizing: border-box;\n",
              "  padding-bottom: 0.4em;\n",
              "  background-color: var(--sklearn-color-background);\n",
              "}\n",
              "\n",
              "#sk-container-id-1 div.sk-container {\n",
              "  /* jupyter's `normalize.less` sets `[hidden] { display: none; }`\n",
              "     but bootstrap.min.css set `[hidden] { display: none !important; }`\n",
              "     so we also need the `!important` here to be able to override the\n",
              "     default hidden behavior on the sphinx rendered scikit-learn.org.\n",
              "     See: https://github.com/scikit-learn/scikit-learn/issues/21755 */\n",
              "  display: inline-block !important;\n",
              "  position: relative;\n",
              "}\n",
              "\n",
              "#sk-container-id-1 div.sk-text-repr-fallback {\n",
              "  display: none;\n",
              "}\n",
              "\n",
              "div.sk-parallel-item,\n",
              "div.sk-serial,\n",
              "div.sk-item {\n",
              "  /* draw centered vertical line to link estimators */\n",
              "  background-image: linear-gradient(var(--sklearn-color-text-on-default-background), var(--sklearn-color-text-on-default-background));\n",
              "  background-size: 2px 100%;\n",
              "  background-repeat: no-repeat;\n",
              "  background-position: center center;\n",
              "}\n",
              "\n",
              "/* Parallel-specific style estimator block */\n",
              "\n",
              "#sk-container-id-1 div.sk-parallel-item::after {\n",
              "  content: \"\";\n",
              "  width: 100%;\n",
              "  border-bottom: 2px solid var(--sklearn-color-text-on-default-background);\n",
              "  flex-grow: 1;\n",
              "}\n",
              "\n",
              "#sk-container-id-1 div.sk-parallel {\n",
              "  display: flex;\n",
              "  align-items: stretch;\n",
              "  justify-content: center;\n",
              "  background-color: var(--sklearn-color-background);\n",
              "  position: relative;\n",
              "}\n",
              "\n",
              "#sk-container-id-1 div.sk-parallel-item {\n",
              "  display: flex;\n",
              "  flex-direction: column;\n",
              "}\n",
              "\n",
              "#sk-container-id-1 div.sk-parallel-item:first-child::after {\n",
              "  align-self: flex-end;\n",
              "  width: 50%;\n",
              "}\n",
              "\n",
              "#sk-container-id-1 div.sk-parallel-item:last-child::after {\n",
              "  align-self: flex-start;\n",
              "  width: 50%;\n",
              "}\n",
              "\n",
              "#sk-container-id-1 div.sk-parallel-item:only-child::after {\n",
              "  width: 0;\n",
              "}\n",
              "\n",
              "/* Serial-specific style estimator block */\n",
              "\n",
              "#sk-container-id-1 div.sk-serial {\n",
              "  display: flex;\n",
              "  flex-direction: column;\n",
              "  align-items: center;\n",
              "  background-color: var(--sklearn-color-background);\n",
              "  padding-right: 1em;\n",
              "  padding-left: 1em;\n",
              "}\n",
              "\n",
              "\n",
              "/* Toggleable style: style used for estimator/Pipeline/ColumnTransformer box that is\n",
              "clickable and can be expanded/collapsed.\n",
              "- Pipeline and ColumnTransformer use this feature and define the default style\n",
              "- Estimators will overwrite some part of the style using the `sk-estimator` class\n",
              "*/\n",
              "\n",
              "/* Pipeline and ColumnTransformer style (default) */\n",
              "\n",
              "#sk-container-id-1 div.sk-toggleable {\n",
              "  /* Default theme specific background. It is overwritten whether we have a\n",
              "  specific estimator or a Pipeline/ColumnTransformer */\n",
              "  background-color: var(--sklearn-color-background);\n",
              "}\n",
              "\n",
              "/* Toggleable label */\n",
              "#sk-container-id-1 label.sk-toggleable__label {\n",
              "  cursor: pointer;\n",
              "  display: block;\n",
              "  width: 100%;\n",
              "  margin-bottom: 0;\n",
              "  padding: 0.5em;\n",
              "  box-sizing: border-box;\n",
              "  text-align: center;\n",
              "}\n",
              "\n",
              "#sk-container-id-1 label.sk-toggleable__label-arrow:before {\n",
              "  /* Arrow on the left of the label */\n",
              "  content: \"▸\";\n",
              "  float: left;\n",
              "  margin-right: 0.25em;\n",
              "  color: var(--sklearn-color-icon);\n",
              "}\n",
              "\n",
              "#sk-container-id-1 label.sk-toggleable__label-arrow:hover:before {\n",
              "  color: var(--sklearn-color-text);\n",
              "}\n",
              "\n",
              "/* Toggleable content - dropdown */\n",
              "\n",
              "#sk-container-id-1 div.sk-toggleable__content {\n",
              "  max-height: 0;\n",
              "  max-width: 0;\n",
              "  overflow: hidden;\n",
              "  text-align: left;\n",
              "  /* unfitted */\n",
              "  background-color: var(--sklearn-color-unfitted-level-0);\n",
              "}\n",
              "\n",
              "#sk-container-id-1 div.sk-toggleable__content.fitted {\n",
              "  /* fitted */\n",
              "  background-color: var(--sklearn-color-fitted-level-0);\n",
              "}\n",
              "\n",
              "#sk-container-id-1 div.sk-toggleable__content pre {\n",
              "  margin: 0.2em;\n",
              "  border-radius: 0.25em;\n",
              "  color: var(--sklearn-color-text);\n",
              "  /* unfitted */\n",
              "  background-color: var(--sklearn-color-unfitted-level-0);\n",
              "}\n",
              "\n",
              "#sk-container-id-1 div.sk-toggleable__content.fitted pre {\n",
              "  /* unfitted */\n",
              "  background-color: var(--sklearn-color-fitted-level-0);\n",
              "}\n",
              "\n",
              "#sk-container-id-1 input.sk-toggleable__control:checked~div.sk-toggleable__content {\n",
              "  /* Expand drop-down */\n",
              "  max-height: 200px;\n",
              "  max-width: 100%;\n",
              "  overflow: auto;\n",
              "}\n",
              "\n",
              "#sk-container-id-1 input.sk-toggleable__control:checked~label.sk-toggleable__label-arrow:before {\n",
              "  content: \"▾\";\n",
              "}\n",
              "\n",
              "/* Pipeline/ColumnTransformer-specific style */\n",
              "\n",
              "#sk-container-id-1 div.sk-label input.sk-toggleable__control:checked~label.sk-toggleable__label {\n",
              "  color: var(--sklearn-color-text);\n",
              "  background-color: var(--sklearn-color-unfitted-level-2);\n",
              "}\n",
              "\n",
              "#sk-container-id-1 div.sk-label.fitted input.sk-toggleable__control:checked~label.sk-toggleable__label {\n",
              "  background-color: var(--sklearn-color-fitted-level-2);\n",
              "}\n",
              "\n",
              "/* Estimator-specific style */\n",
              "\n",
              "/* Colorize estimator box */\n",
              "#sk-container-id-1 div.sk-estimator input.sk-toggleable__control:checked~label.sk-toggleable__label {\n",
              "  /* unfitted */\n",
              "  background-color: var(--sklearn-color-unfitted-level-2);\n",
              "}\n",
              "\n",
              "#sk-container-id-1 div.sk-estimator.fitted input.sk-toggleable__control:checked~label.sk-toggleable__label {\n",
              "  /* fitted */\n",
              "  background-color: var(--sklearn-color-fitted-level-2);\n",
              "}\n",
              "\n",
              "#sk-container-id-1 div.sk-label label.sk-toggleable__label,\n",
              "#sk-container-id-1 div.sk-label label {\n",
              "  /* The background is the default theme color */\n",
              "  color: var(--sklearn-color-text-on-default-background);\n",
              "}\n",
              "\n",
              "/* On hover, darken the color of the background */\n",
              "#sk-container-id-1 div.sk-label:hover label.sk-toggleable__label {\n",
              "  color: var(--sklearn-color-text);\n",
              "  background-color: var(--sklearn-color-unfitted-level-2);\n",
              "}\n",
              "\n",
              "/* Label box, darken color on hover, fitted */\n",
              "#sk-container-id-1 div.sk-label.fitted:hover label.sk-toggleable__label.fitted {\n",
              "  color: var(--sklearn-color-text);\n",
              "  background-color: var(--sklearn-color-fitted-level-2);\n",
              "}\n",
              "\n",
              "/* Estimator label */\n",
              "\n",
              "#sk-container-id-1 div.sk-label label {\n",
              "  font-family: monospace;\n",
              "  font-weight: bold;\n",
              "  display: inline-block;\n",
              "  line-height: 1.2em;\n",
              "}\n",
              "\n",
              "#sk-container-id-1 div.sk-label-container {\n",
              "  text-align: center;\n",
              "}\n",
              "\n",
              "/* Estimator-specific */\n",
              "#sk-container-id-1 div.sk-estimator {\n",
              "  font-family: monospace;\n",
              "  border: 1px dotted var(--sklearn-color-border-box);\n",
              "  border-radius: 0.25em;\n",
              "  box-sizing: border-box;\n",
              "  margin-bottom: 0.5em;\n",
              "  /* unfitted */\n",
              "  background-color: var(--sklearn-color-unfitted-level-0);\n",
              "}\n",
              "\n",
              "#sk-container-id-1 div.sk-estimator.fitted {\n",
              "  /* fitted */\n",
              "  background-color: var(--sklearn-color-fitted-level-0);\n",
              "}\n",
              "\n",
              "/* on hover */\n",
              "#sk-container-id-1 div.sk-estimator:hover {\n",
              "  /* unfitted */\n",
              "  background-color: var(--sklearn-color-unfitted-level-2);\n",
              "}\n",
              "\n",
              "#sk-container-id-1 div.sk-estimator.fitted:hover {\n",
              "  /* fitted */\n",
              "  background-color: var(--sklearn-color-fitted-level-2);\n",
              "}\n",
              "\n",
              "/* Specification for estimator info (e.g. \"i\" and \"?\") */\n",
              "\n",
              "/* Common style for \"i\" and \"?\" */\n",
              "\n",
              ".sk-estimator-doc-link,\n",
              "a:link.sk-estimator-doc-link,\n",
              "a:visited.sk-estimator-doc-link {\n",
              "  float: right;\n",
              "  font-size: smaller;\n",
              "  line-height: 1em;\n",
              "  font-family: monospace;\n",
              "  background-color: var(--sklearn-color-background);\n",
              "  border-radius: 1em;\n",
              "  height: 1em;\n",
              "  width: 1em;\n",
              "  text-decoration: none !important;\n",
              "  margin-left: 1ex;\n",
              "  /* unfitted */\n",
              "  border: var(--sklearn-color-unfitted-level-1) 1pt solid;\n",
              "  color: var(--sklearn-color-unfitted-level-1);\n",
              "}\n",
              "\n",
              ".sk-estimator-doc-link.fitted,\n",
              "a:link.sk-estimator-doc-link.fitted,\n",
              "a:visited.sk-estimator-doc-link.fitted {\n",
              "  /* fitted */\n",
              "  border: var(--sklearn-color-fitted-level-1) 1pt solid;\n",
              "  color: var(--sklearn-color-fitted-level-1);\n",
              "}\n",
              "\n",
              "/* On hover */\n",
              "div.sk-estimator:hover .sk-estimator-doc-link:hover,\n",
              ".sk-estimator-doc-link:hover,\n",
              "div.sk-label-container:hover .sk-estimator-doc-link:hover,\n",
              ".sk-estimator-doc-link:hover {\n",
              "  /* unfitted */\n",
              "  background-color: var(--sklearn-color-unfitted-level-3);\n",
              "  color: var(--sklearn-color-background);\n",
              "  text-decoration: none;\n",
              "}\n",
              "\n",
              "div.sk-estimator.fitted:hover .sk-estimator-doc-link.fitted:hover,\n",
              ".sk-estimator-doc-link.fitted:hover,\n",
              "div.sk-label-container:hover .sk-estimator-doc-link.fitted:hover,\n",
              ".sk-estimator-doc-link.fitted:hover {\n",
              "  /* fitted */\n",
              "  background-color: var(--sklearn-color-fitted-level-3);\n",
              "  color: var(--sklearn-color-background);\n",
              "  text-decoration: none;\n",
              "}\n",
              "\n",
              "/* Span, style for the box shown on hovering the info icon */\n",
              ".sk-estimator-doc-link span {\n",
              "  display: none;\n",
              "  z-index: 9999;\n",
              "  position: relative;\n",
              "  font-weight: normal;\n",
              "  right: .2ex;\n",
              "  padding: .5ex;\n",
              "  margin: .5ex;\n",
              "  width: min-content;\n",
              "  min-width: 20ex;\n",
              "  max-width: 50ex;\n",
              "  color: var(--sklearn-color-text);\n",
              "  box-shadow: 2pt 2pt 4pt #999;\n",
              "  /* unfitted */\n",
              "  background: var(--sklearn-color-unfitted-level-0);\n",
              "  border: .5pt solid var(--sklearn-color-unfitted-level-3);\n",
              "}\n",
              "\n",
              ".sk-estimator-doc-link.fitted span {\n",
              "  /* fitted */\n",
              "  background: var(--sklearn-color-fitted-level-0);\n",
              "  border: var(--sklearn-color-fitted-level-3);\n",
              "}\n",
              "\n",
              ".sk-estimator-doc-link:hover span {\n",
              "  display: block;\n",
              "}\n",
              "\n",
              "/* \"?\"-specific style due to the `<a>` HTML tag */\n",
              "\n",
              "#sk-container-id-1 a.estimator_doc_link {\n",
              "  float: right;\n",
              "  font-size: 1rem;\n",
              "  line-height: 1em;\n",
              "  font-family: monospace;\n",
              "  background-color: var(--sklearn-color-background);\n",
              "  border-radius: 1rem;\n",
              "  height: 1rem;\n",
              "  width: 1rem;\n",
              "  text-decoration: none;\n",
              "  /* unfitted */\n",
              "  color: var(--sklearn-color-unfitted-level-1);\n",
              "  border: var(--sklearn-color-unfitted-level-1) 1pt solid;\n",
              "}\n",
              "\n",
              "#sk-container-id-1 a.estimator_doc_link.fitted {\n",
              "  /* fitted */\n",
              "  border: var(--sklearn-color-fitted-level-1) 1pt solid;\n",
              "  color: var(--sklearn-color-fitted-level-1);\n",
              "}\n",
              "\n",
              "/* On hover */\n",
              "#sk-container-id-1 a.estimator_doc_link:hover {\n",
              "  /* unfitted */\n",
              "  background-color: var(--sklearn-color-unfitted-level-3);\n",
              "  color: var(--sklearn-color-background);\n",
              "  text-decoration: none;\n",
              "}\n",
              "\n",
              "#sk-container-id-1 a.estimator_doc_link.fitted:hover {\n",
              "  /* fitted */\n",
              "  background-color: var(--sklearn-color-fitted-level-3);\n",
              "}\n",
              "</style><div id=\"sk-container-id-1\" class=\"sk-top-container\"><div class=\"sk-text-repr-fallback\"><pre>LinearRegression()</pre><b>In a Jupyter environment, please rerun this cell to show the HTML representation or trust the notebook. <br />On GitHub, the HTML representation is unable to render, please try loading this page with nbviewer.org.</b></div><div class=\"sk-container\" hidden><div class=\"sk-item\"><div class=\"sk-estimator fitted sk-toggleable\"><input class=\"sk-toggleable__control sk-hidden--visually\" id=\"sk-estimator-id-1\" type=\"checkbox\" checked><label for=\"sk-estimator-id-1\" class=\"sk-toggleable__label fitted sk-toggleable__label-arrow fitted\">&nbsp;&nbsp;LinearRegression<a class=\"sk-estimator-doc-link fitted\" rel=\"noreferrer\" target=\"_blank\" href=\"https://scikit-learn.org/1.5/modules/generated/sklearn.linear_model.LinearRegression.html\">?<span>Documentation for LinearRegression</span></a><span class=\"sk-estimator-doc-link fitted\">i<span>Fitted</span></span></label><div class=\"sk-toggleable__content fitted\"><pre>LinearRegression()</pre></div> </div></div></div></div>"
            ]
          },
          "metadata": {},
          "execution_count": 25
        }
      ],
      "source": [
        "#your code here:\n",
        "#Function to calculate Mean Absolute Percentage Error.\n",
        "def mean_absolute_percentage_error(y_true, y_pred):\n",
        "    return np.mean(np.abs((y_true - y_pred) / y_true)) * 100\n",
        "\n",
        "#Create a Linear Regression model.\n",
        "regressor = LinearRegression()\n",
        "\n",
        "#Fit the model on the training data.\n",
        "regressor.fit(X_train_aprt, y_train_aprt)"
      ]
    },
    {
      "cell_type": "markdown",
      "metadata": {
        "id": "mfRk86hInXlI"
      },
      "source": [
        "#12. On both the train set and the test set, predict the values based on the linear regression model and print the following measures:\n",
        "\n",
        "\t*  R^2\n",
        "\t*  Root Mean Square Error (RMSE)\n",
        "\t*  Mean Absolut Error (MAE)\n",
        "\t*  Mean Absolut Percent Error (MAPE)\n",
        "\n"
      ]
    },
    {
      "cell_type": "code",
      "execution_count": null,
      "metadata": {
        "id": "Z_ZELtEloBfl",
        "colab": {
          "base_uri": "https://localhost:8080/"
        },
        "outputId": "248c206e-e045-4067-bfa1-c6b5d87f5836"
      },
      "outputs": [
        {
          "output_type": "stream",
          "name": "stdout",
          "text": [
            "The model performance for testing set:\n",
            "R-squared is -0.0016703850931609754\n",
            "RMSE is 2297895.1105726887\n",
            "MAE score is 282577.92031437973\n",
            "MAPE score is 196.22620369890257 \n",
            "\n",
            "The model performance for training set:\n",
            "R-squared is 0.011754846542810893\n",
            "RMSE is 3759425.0669974457\n",
            "MAE score is 283811.30916414753\n",
            "MAPE score is 17636.35427142282\n"
          ]
        }
      ],
      "source": [
        "#your code here:\n",
        "#Predict results on the test set.\n",
        "y_pred_aprt = regressor.predict(X_test_aprt)\n",
        "\n",
        "#model evaluation for test set.\n",
        "Lin_r2=r2_score(y_test_aprt, y_pred_aprt) #Calculate R-squared.\n",
        "RMSE = (np.sqrt(mean_squared_error(y_test_aprt, y_pred_aprt))) #Calculate Root Mean Squared Error.\n",
        "MAE= mean_absolute_error(y_test_aprt, y_pred_aprt) #Calculate Mean Absolute Error.\n",
        "MAPE=mean_absolute_percentage_error(y_test_aprt, y_pred_aprt) #Calculate Mean Absolute Percentage Error.\n",
        "\n",
        "#Display the model performance metrics for the test set.\n",
        "print(\"The model performance for testing set:\")\n",
        "print('R-squared is {}'.format(Lin_r2))\n",
        "print('RMSE is {}'.format(RMSE))\n",
        "print('MAE score is {}'.format(MAE))\n",
        "print('MAPE score is {}'.format(MAPE) ,\"\\n\")\n",
        "\n",
        "#Evaluate the model on the training set.\n",
        "y_pred_train_aprt = regressor.predict(X_train_aprt) #Predict on the training set.\n",
        "lin_r2_train=r2_score(y_train_aprt, y_pred_train_aprt) #Calculate R-squared for training set.\n",
        "RMSE_train = (np.sqrt(mean_squared_error(y_train_aprt, y_pred_train_aprt))) #Calculate RMSE for training set.\n",
        "MAE_train= mean_absolute_error(y_train_aprt, y_pred_train_aprt) #Calculate MAE for training set.\n",
        "MAPE_train=mean_absolute_percentage_error(y_train_aprt, y_pred_train_aprt) #Calculate MAPE for training set.\n",
        "\n",
        "#Display the model performance metrics for the training set.\n",
        "print(\"The model performance for training set:\")\n",
        "print('R-squared is {}'.format(lin_r2_train))\n",
        "print('RMSE is {}'.format(RMSE_train))\n",
        "print('MAE score is {}'.format(MAE_train))\n",
        "print('MAPE score is {}'.format(MAPE_train))"
      ]
    },
    {
      "cell_type": "markdown",
      "metadata": {
        "id": "VmoF2nk9oFT-"
      },
      "source": [
        "#13. Polynomial regression: follow instruction in the attached documnet."
      ]
    },
    {
      "cell_type": "code",
      "source": [
        "#Transform the original features to polynomial features.\n",
        "poly = PolynomialFeatures()\n",
        "X_poly = poly.fit_transform(x_aprt_norm) #Transforming the original features to polynomial features.\n",
        "X_poly_train, X_poly_test, y_poly_train, y_poly_test = train_test_split(X_poly, y_aprt, test_size = 0.2, random_state=123)\n",
        "\n",
        "#Ignore convergence warnings.\n",
        "warnings.filterwarnings(\"ignore\", category=ConvergenceWarning)\n",
        "\n",
        "#Parameter definitions.\n",
        "degrees_to_test = [2 ]#3, 4]  #Polynomial degrees to test. Degree 2 was found to perform best, so higher degrees were skipped.\n",
        "alphas = [0.01, 0.1, 1, 10, 100]  #Alpha values to test.\n",
        "\n",
        "#Dictionary to keep track of the best results\n",
        "best_results = {\n",
        "    'model': None,\n",
        "    'alpha': None,\n",
        "    'degree': None,\n",
        "    'mae': float('inf') #Initialize with infinity to find the minimum MAE.\n",
        "}\n",
        "\n",
        "#Initial data split for train and test sets using a fixed random state.\n",
        "X_train, X_test, y_train, y_test = train_test_split(x_aprt_norm, y_aprt, test_size=0.2, random_state=123)\n",
        "\n",
        "#Loop to evaluate models for each polynomial degree.\n",
        "for degree in degrees_to_test:\n",
        "    for model_type, model in [('Lasso', Lasso()), ('Ridge', Ridge())]:\n",
        "\n",
        "#Define a pipeline with PolynomialFeatures and Lasso/Ridge regression.\n",
        "        pipeline = Pipeline([('poly', PolynomialFeatures(degree=degree, interaction_only=True)),('model', model)])\n",
        "\n",
        "#Grid search to find the best alpha value.\n",
        "        param_grid = {'model__alpha': alphas}\n",
        "        grid_search = GridSearchCV(pipeline, param_grid, scoring='neg_mean_absolute_error', cv=3)\n",
        "\n",
        "#Fit the model and evaluate it.\n",
        "        grid_search.fit(X_train, y_train)\n",
        "\n",
        "#Calculate MAE for the best alpha and degree found.\n",
        "        mae = -grid_search.best_score_\n",
        "\n",
        "#Update the best results if a lower MAE is found.\n",
        "        if mae < best_results['mae']:\n",
        "            best_results.update({'model': model_type,'alpha': grid_search.best_params_['model__alpha'],'degree': degree,'mae': mae})\n",
        "\n",
        "#Print the best results.\n",
        "print(\"Best Polynomial Degree (d):\", best_results['degree'])\n",
        "print(\"Best Model:\", best_results['model'])\n",
        "print(\"Best Regularization Strength (alpha):\", best_results['alpha'])\n",
        "print(\"Best Mean Absolute Error (MAE): {:.4f}\".format(best_results['mae']))\n",
        "\n",
        "#Function to evaluate model performance metrics.\n",
        "def evaluate_model(y_true, y_pred):\n",
        "    r2 = r2_score(y_true, y_pred)\n",
        "    rmse = mean_squared_error(y_true, y_pred, squared=False)\n",
        "    mae = mean_absolute_error(y_true, y_pred)\n",
        "    mape = np.mean(np.abs((y_true - y_pred) / y_true)) * 100\n",
        "    return r2, rmse, mae, mape\n",
        "\n",
        "#Prediction on the training set and the test set.\n",
        "best_model = best_results['model']  #Store the best model type.\n",
        "best_degree = best_results['degree']\n",
        "best_alpha = best_results['alpha']\n",
        "\n",
        "#Build the pipeline with the best settings.\n",
        "pipeline = Pipeline([('poly', PolynomialFeatures(degree=best_degree, interaction_only=True)),('model', Lasso(alpha=best_alpha) if best_model == 'Lasso' else Ridge(alpha=best_alpha))])\n",
        "\n",
        "#Fit the model with the data.\n",
        "pipeline.fit(X_train, y_train)\n",
        "\n",
        "#Prediction and performance evaluation on the test set.\n",
        "y_pred_test = pipeline.predict(X_test)\n",
        "r2_test, rmse_test, mae_test, mape_test = evaluate_model(y_test, y_pred_test)\n",
        "\n",
        "print(\"The model performance for the test set:\")\n",
        "print(f'R-squared: {r2_test:.4f}')\n",
        "print(f'RMSE: {rmse_test:.4f}')\n",
        "print(f'MAE: {mae_test:.4f}')\n",
        "print(f'MAPE: {mape_test:.4f}\\n')\n",
        "\n",
        "#Prediction and performance evaluation on the training set.\n",
        "y_pred_train = pipeline.predict(X_train)\n",
        "r2_train, rmse_train, mae_train, mape_train = evaluate_model(y_train, y_pred_train)\n",
        "\n",
        "print(\"The model performance for the training set:\")\n",
        "print(f'R-squared: {r2_train:.4f}')\n",
        "print(f'RMSE: {rmse_train:.4f}')\n",
        "print(f'MAE: {mae_train:.4f}')\n",
        "print(f'MAPE: {mape_train:.4f}')"
      ],
      "metadata": {
        "colab": {
          "base_uri": "https://localhost:8080/"
        },
        "id": "3T6thS3dYyMo",
        "outputId": "714144ab-0fbd-4da7-e07b-39c3fa8501b8"
      },
      "execution_count": null,
      "outputs": [
        {
          "output_type": "stream",
          "name": "stdout",
          "text": [
            "Best Polynomial Degree (d): 2\n",
            "Best Model: Ridge\n",
            "Best Regularization Strength (alpha): 100\n",
            "Best Mean Absolute Error (MAE): 264633.2870\n",
            "The model performance for the test set:\n",
            "R-squared: 0.0013\n",
            "RMSE: 2307856.3602\n",
            "MAE: 269274.6763\n",
            "MAPE: 63751.5832\n",
            "\n",
            "The model performance for the training set:\n",
            "R-squared: 0.0196\n",
            "RMSE: 3742368.1763\n",
            "MAE: 254802.7434\n",
            "MAPE: 172.3060\n"
          ]
        },
        {
          "output_type": "stream",
          "name": "stderr",
          "text": [
            "/usr/local/lib/python3.10/dist-packages/sklearn/metrics/_regression.py:492: FutureWarning: 'squared' is deprecated in version 1.4 and will be removed in 1.6. To calculate the root mean squared error, use the function'root_mean_squared_error'.\n",
            "  warnings.warn(\n",
            "/usr/local/lib/python3.10/dist-packages/sklearn/metrics/_regression.py:492: FutureWarning: 'squared' is deprecated in version 1.4 and will be removed in 1.6. To calculate the root mean squared error, use the function'root_mean_squared_error'.\n",
            "  warnings.warn(\n"
          ]
        }
      ]
    },
    {
      "cell_type": "markdown",
      "metadata": {
        "id": "ZvIm0OEUoUSW"
      },
      "source": [
        "#14. Verbally explain the problem with polynomial transformation of features. How can it be solved? (2-3 sentences)."
      ]
    },
    {
      "cell_type": "markdown",
      "metadata": {
        "id": "ivECb4FOo9jY"
      },
      "source": [
        "#Your answer here:\n",
        "WORD תשובה בקובץ\n",
        "\n"
      ]
    },
    {
      "cell_type": "markdown",
      "metadata": {
        "id": "XsvLKBFHoqe1"
      },
      "source": [
        "#Verbally explain what are ridge and lasso? when shoud each be used? what's the diffrence between them? (up to 4 sentences)"
      ]
    },
    {
      "cell_type": "markdown",
      "metadata": {
        "id": "2Aj-zGZNo9_A"
      },
      "source": [
        "#Your answer here:\n",
        "WORD תשובה בקובץ\n"
      ]
    },
    {
      "cell_type": "markdown",
      "metadata": {
        "id": "GEsLJp7Fo-kl"
      },
      "source": [
        "#15. Train additional algorithms as specified in the attached document."
      ]
    },
    {
      "cell_type": "code",
      "execution_count": null,
      "metadata": {
        "id": "3D1LfRt1pPDJ",
        "colab": {
          "base_uri": "https://localhost:8080/"
        },
        "outputId": "b311fbee-6dbe-477e-ee1f-78576b5b71d9"
      },
      "outputs": [
        {
          "output_type": "stream",
          "name": "stdout",
          "text": [
            "Best parameters for RandomForest: {'max_depth': None, 'n_estimators': 100}\n",
            "Best parameters for CatBoost: {'depth': 6, 'iterations': 100}\n",
            "[LightGBM] [Warning] Found whitespace in feature_names, replace with underlines\n",
            "[LightGBM] [Info] Auto-choosing row-wise multi-threading, the overhead of testing was 0.002143 seconds.\n",
            "You can set `force_row_wise=true` to remove the overhead.\n",
            "And if memory is not enough, you can set `force_col_wise=true`.\n",
            "[LightGBM] [Info] Total Bins 354\n",
            "[LightGBM] [Info] Number of data points in the train set: 5806, number of used features: 20\n",
            "[LightGBM] [Info] Start training from score 425479.408887\n",
            "Performance of RandomForest:\n",
            "Training set:\n",
            "R^2: 0.77, RMSE: 1799476.67, MAE: 85001.22, MAPE: 4657.21\n",
            "Testing set:\n",
            "R^2: 0.01, RMSE: 2280493.25, MAE: 153352.48, MAPE: 115.84\n",
            "Performance of CatBoost:\n",
            "Training set:\n",
            "R^2: 1.00, RMSE: 184409.35, MAE: 98621.08, MAPE: 3817.23\n",
            "Testing set:\n",
            "R^2: -4.05, RMSE: 5160673.40, MAE: 338661.17, MAPE: 185.47\n",
            "Performance of LGBM:\n",
            "Training set:\n",
            "R^2: 0.22, RMSE: 3334324.56, MAE: 192170.73, MAPE: 5971.53\n",
            "Testing set:\n",
            "R^2: -0.03, RMSE: 2326755.76, MAE: 200560.76, MAPE: 154.46\n"
          ]
        },
        {
          "output_type": "stream",
          "name": "stderr",
          "text": [
            "/usr/local/lib/python3.10/dist-packages/sklearn/metrics/_regression.py:492: FutureWarning: 'squared' is deprecated in version 1.4 and will be removed in 1.6. To calculate the root mean squared error, use the function'root_mean_squared_error'.\n",
            "  warnings.warn(\n",
            "/usr/local/lib/python3.10/dist-packages/sklearn/metrics/_regression.py:492: FutureWarning: 'squared' is deprecated in version 1.4 and will be removed in 1.6. To calculate the root mean squared error, use the function'root_mean_squared_error'.\n",
            "  warnings.warn(\n",
            "/usr/local/lib/python3.10/dist-packages/sklearn/metrics/_regression.py:492: FutureWarning: 'squared' is deprecated in version 1.4 and will be removed in 1.6. To calculate the root mean squared error, use the function'root_mean_squared_error'.\n",
            "  warnings.warn(\n",
            "/usr/local/lib/python3.10/dist-packages/sklearn/metrics/_regression.py:492: FutureWarning: 'squared' is deprecated in version 1.4 and will be removed in 1.6. To calculate the root mean squared error, use the function'root_mean_squared_error'.\n",
            "  warnings.warn(\n",
            "/usr/local/lib/python3.10/dist-packages/sklearn/metrics/_regression.py:492: FutureWarning: 'squared' is deprecated in version 1.4 and will be removed in 1.6. To calculate the root mean squared error, use the function'root_mean_squared_error'.\n",
            "  warnings.warn(\n",
            "/usr/local/lib/python3.10/dist-packages/sklearn/metrics/_regression.py:492: FutureWarning: 'squared' is deprecated in version 1.4 and will be removed in 1.6. To calculate the root mean squared error, use the function'root_mean_squared_error'.\n",
            "  warnings.warn(\n"
          ]
        }
      ],
      "source": [
        "#your code here:\n",
        "#randomforestRegressor model:\n",
        "RF_model = RandomForestRegressor(random_state=42)\n",
        "\n",
        "#Parameter definition for RandomForestRegressor.\n",
        "rf_param_grid = {\n",
        "    'n_estimators': [100, 200], #Number of trees in the forest.\n",
        "    'max_depth': [None, 10, 20] #Maximum depth of each tree.\n",
        "}\n",
        "\n",
        "#Performing GridSearchCV to find the best parameters for the RandomForest model.\n",
        "rf_grid_search = GridSearchCV(estimator=RF_model, param_grid=rf_param_grid, cv=5, n_jobs=-1)\n",
        "rf_grid_search.fit(X_train_aprt, y_train_aprt)\n",
        "\n",
        "#Storing the best model based on the grid search results.\n",
        "best_rf_model = rf_grid_search .best_estimator_\n",
        "print(\"Best parameters for RandomForest:\", rf_grid_search.best_params_)\n",
        "\n",
        "#Catboostregressor model:\n",
        "param_grid_cat = {\n",
        "    'iterations': [100, 200], #Number of trees.\n",
        "    'depth': [6, 10] #Depth of trees.\n",
        "}\n",
        "\n",
        "#Defining CatBoostRegressor and performing GridSearchCV to find the best parameters.\n",
        "cat = CatBoostRegressor(random_state=123, verbose=0)\n",
        "cat_search = GridSearchCV(cat, param_grid=param_grid_cat, cv=5, n_jobs=-1)\n",
        "cat_search.fit(X_train_aprt, y_train_aprt)\n",
        "\n",
        "#Storing the best model based on the grid search results.\n",
        "best_cat_model = cat_search.best_estimator_\n",
        "print(\"Best parameters for CatBoost:\", cat_search.best_params_)\n",
        "\n",
        "#LGBMRegressor model.\n",
        "LGBM_model = LGBMRegressor(random_state=123)\n",
        "LGBM_model.fit(X_train_aprt, y_train_aprt)\n",
        "\n",
        "#Defining a dictionary to store the models for later evaluation.\n",
        "models = {'RandomForest': best_rf_model, 'CatBoost': best_cat_model, 'LGBM': LGBM_model}\n",
        "\n",
        "for model_name, model in models.items():\n",
        "#Predicting on the training set.\n",
        "    y_train_pred = model.predict(X_train_aprt)\n",
        "    r2_train, rmse_train, mae_train, mape_train = evaluate_model(y_train_aprt, y_train_pred)\n",
        "\n",
        " #Predicting on the testing set.\n",
        "    y_test_pred = model.predict(X_test_aprt)\n",
        "    r2_test, rmse_test, mae_test, mape_test = evaluate_model(y_test_aprt, y_test_pred)\n",
        "\n",
        "    print(f\"Performance of {model_name}:\")\n",
        "    print(\"Training set:\")\n",
        "    print(f\"R^2: {r2_train:.2f}, RMSE: {rmse_train:.2f}, MAE: {mae_train:.2f}, MAPE: {mape_train:.2f}\")\n",
        "    print(\"Testing set:\")\n",
        "    print(f\"R^2: {r2_test:.2f}, RMSE: {rmse_test:.2f}, MAE: {mae_test:.2f}, MAPE: {mape_test:.2f}\")"
      ]
    },
    {
      "cell_type": "markdown",
      "metadata": {
        "id": "JETnIFoUpXdk"
      },
      "source": [
        "#16. Verbally explain: which model is the best? Briefly explain the model predictions outcome in terms of over and under fitting -explain.\n",
        "#Explain each of the 4 error measuers presented and how they coul be interpreted in the context of your data specifically?"
      ]
    },
    {
      "cell_type": "markdown",
      "metadata": {
        "id": "tjsBNZoxqQVp"
      },
      "source": [
        "#Your answer here:\n",
        "WORD תשובה בקובץ"
      ]
    },
    {
      "cell_type": "markdown",
      "metadata": {
        "id": "M573muOoa6Kp"
      },
      "source": [
        "#Good Luck!"
      ]
    }
  ],
  "metadata": {
    "colab": {
      "provenance": [],
      "include_colab_link": true
    },
    "kernelspec": {
      "display_name": "Python 3",
      "name": "python3"
    },
    "language_info": {
      "name": "python"
    }
  },
  "nbformat": 4,
  "nbformat_minor": 0
}